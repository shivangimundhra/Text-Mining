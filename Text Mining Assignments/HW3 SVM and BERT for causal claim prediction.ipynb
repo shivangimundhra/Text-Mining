{
  "cells": [
    {
      "cell_type": "markdown",
      "metadata": {
        "id": "Q_oDTpMltmrH"
      },
      "source": [
        "# HW3 - Compare SVM and BERT for Causal Language Detection"
      ]
    },
    {
      "cell_type": "code",
      "source": [
        "# mounting Google Drive\n",
        "from google.colab import drive\n",
        "drive.mount('/content/drive')"
      ],
      "metadata": {
        "colab": {
          "base_uri": "https://localhost:8080/"
        },
        "id": "mJQ5u9zTuGhA",
        "outputId": "f6a352ec-14a9-4156-c49e-5d2e6f35b235"
      },
      "execution_count": 1,
      "outputs": [
        {
          "output_type": "stream",
          "name": "stdout",
          "text": [
            "Mounted at /content/drive\n"
          ]
        }
      ]
    },
    {
      "cell_type": "markdown",
      "metadata": {
        "id": "W0IMPE12tmrJ"
      },
      "source": [
        "We will first build prediction model using SVM and then a second model using BERT. <br>\n",
        "\n",
        "## SVM"
      ]
    },
    {
      "cell_type": "markdown",
      "metadata": {
        "id": "tOF6Rbr3tmrK"
      },
      "source": [
        "### Step 1: Read in data"
      ]
    },
    {
      "cell_type": "code",
      "execution_count": 2,
      "metadata": {
        "id": "946_yyImtmrL"
      },
      "outputs": [],
      "source": [
        "# reading the provided csv file\n",
        "\n",
        "import pandas as p\n",
        "import numpy as np\n",
        "train = p.read_csv(\"/content/drive/MyDrive/Colab Notebooks/pubmed_causal_language_use.csv\")\n",
        "y = train['label'].values\n",
        "X = train['sentence'].values"
      ]
    },
    {
      "cell_type": "markdown",
      "metadata": {
        "id": "AoiFXeT4tmrM"
      },
      "source": [
        "### Step 2: Split train/test data for hold-out test"
      ]
    },
    {
      "cell_type": "code",
      "execution_count": 3,
      "metadata": {
        "colab": {
          "base_uri": "https://localhost:8080/"
        },
        "id": "9apbZeCFtmrM",
        "outputId": "7340bfc4-7f6e-4c86-c65a-fc1e99236091"
      },
      "outputs": [
        {
          "output_type": "stream",
          "name": "stdout",
          "text": [
            "(2448,) (2448,) (613,) (613,)\n",
            "The high rate of text message usage makes it feasible to recruit YAMs for a prospective study in which personalized text messages are used to promote healthy behaviours.\n",
            "0\n",
            "The lack of symptoms and the preoperative EGD findings were not suggestive of this diagnosis in any case.\n",
            "0\n"
          ]
        }
      ],
      "source": [
        "from sklearn.model_selection import train_test_split\n",
        "X_train, X_test, y_train, y_test = train_test_split(X, y, test_size = 0.2, random_state = 0)\n",
        "\n",
        "print(X_train.shape, y_train.shape, X_test.shape, y_test.shape)\n",
        "print(X_train[0])\n",
        "print(y_train[0])\n",
        "print(X_test[0])\n",
        "print(y_test[0])"
      ]
    },
    {
      "cell_type": "markdown",
      "metadata": {
        "id": "oZbHQai5tmrN"
      },
      "source": [
        "### Step 2.1 Data Checking"
      ]
    },
    {
      "cell_type": "code",
      "execution_count": 4,
      "metadata": {
        "colab": {
          "base_uri": "https://localhost:8080/"
        },
        "id": "exmaoeyLtmrN",
        "outputId": "efd1b23b-4cdc-47c8-ec99-20fd862755c3"
      },
      "outputs": [
        {
          "output_type": "stream",
          "name": "stdout",
          "text": [
            "[[   0    1    2    3]\n",
            " [1055  409  169  815]]\n"
          ]
        }
      ],
      "source": [
        "# Check how many training examples in each category\n",
        "# this is important to see whether the data set is balanced or skewed\n",
        "\n",
        "unique, counts = np.unique(y_train, return_counts = True)\n",
        "print(np.asarray((unique, counts)))"
      ]
    },
    {
      "cell_type": "code",
      "execution_count": 5,
      "metadata": {
        "colab": {
          "base_uri": "https://localhost:8080/"
        },
        "id": "gOSjD5k0tmrO",
        "outputId": "d35c4b04-3556-422e-c197-ce89df7b5f06"
      },
      "outputs": [
        {
          "output_type": "stream",
          "name": "stdout",
          "text": [
            "[[  0   1   2   3]\n",
            " [301  85  44 183]]\n"
          ]
        }
      ],
      "source": [
        "# Check how many test examples in each category\n",
        "\n",
        "uniqueTest, countsTest = np.unique(y_test, return_counts = True)\n",
        "print(np.asarray((uniqueTest, countsTest)))"
      ]
    },
    {
      "cell_type": "markdown",
      "metadata": {
        "id": "dzGsc6kWtmrO"
      },
      "source": [
        "### Step 3: Vectorization"
      ]
    },
    {
      "cell_type": "code",
      "execution_count": 6,
      "metadata": {
        "id": "tBz0Dg5mtmrO"
      },
      "outputs": [],
      "source": [
        "from sklearn.feature_extraction.text import CountVectorizer\n",
        "from sklearn.feature_extraction.text import TfidfVectorizer\n",
        "\n",
        "# several commonly used vectorizer setting\n",
        "\n",
        "#  unigram boolean vectorizer, set minimum document frequency to 5\n",
        "unigram_bool_vectorizer = CountVectorizer(encoding = 'latin-1', binary = True, min_df = 5, stop_words = 'english')\n",
        "\n",
        "#  unigram term frequency vectorizer, set minimum document frequency to 5\n",
        "unigram_count_vectorizer = CountVectorizer(encoding = 'latin-1', binary = False, min_df = 5, stop_words = 'english')\n",
        "\n",
        "#  unigram and bigram term frequency vectorizer, set minimum document frequency to 5\n",
        "gram12_count_vectorizer = CountVectorizer(encoding = 'latin-1', ngram_range = (1,2), min_df = 5, stop_words = 'english')\n",
        "\n",
        "#  unigram tfidf vectorizer, set minimum document frequency to 5\n",
        "unigram_tfidf_vectorizer = TfidfVectorizer(encoding = 'latin-1', use_idf = True, min_df = 5, stop_words = 'english')\n"
      ]
    },
    {
      "cell_type": "markdown",
      "metadata": {
        "id": "8TJtdbqttmrP"
      },
      "source": [
        "#### Step 3.1: Vectorize the training data"
      ]
    },
    {
      "cell_type": "markdown",
      "metadata": {
        "id": "UIV-gc4rtmrP"
      },
      "source": [
        "We will use tfidf Vectorizer because it not only focuses on the frequency of words present in the corpus but also provides the importance of the words. This should increase the accuracy of classification and should help in creating better hyperplanes between different labels.\n",
        "\n",
        "References -\n",
        "1. https://ieeexplore.ieee.org/document/9274650\n",
        "2. https://www.linkedin.com/pulse/count-vectorizers-vs-tfidf-natural-language-processing-sheel-saket#:~:text=TF%2DIDF%20is%20better%20than,by%20reducing%20the%20input%20dimensions."
      ]
    },
    {
      "cell_type": "code",
      "execution_count": 7,
      "metadata": {
        "colab": {
          "base_uri": "https://localhost:8080/"
        },
        "id": "a1DQNVR6tmrP",
        "outputId": "1d130cc0-aa3c-4c0a-eb36-bea6095b8a45"
      },
      "outputs": [
        {
          "output_type": "stream",
          "name": "stdout",
          "text": [
            "(2448, 1195)\n",
            "[[0. 0. 0. ... 0. 0. 0.]]\n",
            "1195\n",
            "[('high', 480), ('rate', 889), ('feasible', 402), ('prospective', 867), ('study', 1056), ('used', 1155), ('promote', 863), ('healthy', 472), ('reductions', 910), ('ldl', 591)]\n",
            "786\n"
          ]
        }
      ],
      "source": [
        "# fit vocabulary in training documents and transform the training documents into vectors\n",
        "X_train_vec = unigram_tfidf_vectorizer.fit_transform(X_train)\n",
        "\n",
        "# check the content of a document vector\n",
        "print(X_train_vec.shape)\n",
        "print(X_train_vec[0].toarray())\n",
        "\n",
        "# check the size of the constructed vocabulary\n",
        "print(len(unigram_tfidf_vectorizer.vocabulary_))\n",
        "\n",
        "# print out the first 10 items in the vocabulary\n",
        "print(list(unigram_tfidf_vectorizer.vocabulary_.items())[:10])\n",
        "\n",
        "# check word index in vocabulary\n",
        "print(unigram_tfidf_vectorizer.vocabulary_.get('physical'))"
      ]
    },
    {
      "cell_type": "markdown",
      "metadata": {
        "id": "3djQjJNKtmrP"
      },
      "source": [
        "#### Step 3.2: Vectorize the test data"
      ]
    },
    {
      "cell_type": "code",
      "execution_count": 8,
      "metadata": {
        "colab": {
          "base_uri": "https://localhost:8080/"
        },
        "id": "6D7iQLKVtmrQ",
        "outputId": "0cb9fd65-4d54-4863-fef7-3d2c3fda64a6"
      },
      "outputs": [
        {
          "output_type": "stream",
          "name": "stdout",
          "text": [
            "(613, 1195)\n"
          ]
        }
      ],
      "source": [
        "X_test_vec = unigram_tfidf_vectorizer.transform(X_test)\n",
        "\n",
        "# print out #examples and #features in the test set\n",
        "print(X_test_vec.shape)"
      ]
    },
    {
      "cell_type": "markdown",
      "metadata": {
        "id": "Zgw4yis4tmrQ"
      },
      "source": [
        "### Step 4: Train a LinearSVC classifier"
      ]
    },
    {
      "cell_type": "code",
      "execution_count": 9,
      "metadata": {
        "colab": {
          "base_uri": "https://localhost:8080/"
        },
        "id": "VK7lNjB2tmrQ",
        "outputId": "5139c466-aad9-4ca2-a813-ac74f268c85b"
      },
      "outputs": [
        {
          "output_type": "execute_result",
          "data": {
            "text/plain": [
              "LinearSVC(C=1)"
            ]
          },
          "metadata": {},
          "execution_count": 9
        }
      ],
      "source": [
        "# import the LinearSVC module\n",
        "from sklearn.svm import LinearSVC\n",
        "\n",
        "# initialize the LinearSVC model\n",
        "svm_clf = LinearSVC(C = 1)\n",
        "\n",
        "# use the training data to train the model\n",
        "svm_clf.fit(X_train_vec, y_train)"
      ]
    },
    {
      "cell_type": "markdown",
      "metadata": {
        "id": "1gCfMAqttmrQ"
      },
      "source": [
        "#### Step 4.1 Interpret a trained LinearSVC model"
      ]
    },
    {
      "cell_type": "code",
      "execution_count": 10,
      "metadata": {
        "colab": {
          "base_uri": "https://localhost:8080/"
        },
        "id": "JtKNDT2CtmrR",
        "outputId": "9e529bb6-c7d4-450a-ffef-e8ca1ce096b5"
      },
      "outputs": [
        {
          "output_type": "stream",
          "name": "stdout",
          "text": [
            "No relationship words\n",
            "(1.4084141619006691, 'focus')\n",
            "(1.4285348262007627, 'assessment')\n",
            "(1.437899423026315, 'performed')\n",
            "(1.4500503830646205, 'trials')\n",
            "(1.578807001412499, 'assess')\n",
            "(1.6878044924579994, 'required')\n",
            "(1.6881981040140208, 'implications')\n",
            "(1.7434850186481985, 'research')\n",
            "(2.139177837391045, 'studies')\n",
            "(2.9535661114934744, 'needed')\n",
            "\n",
            "Direct causal words\n",
            "(1.5989563340448967, 'reduced')\n",
            "(1.6949145452723313, 'benefits')\n",
            "(1.835859503643258, 'oral')\n",
            "(1.8431860264058906, 'reduces')\n",
            "(2.079409562609014, 'beneficial')\n",
            "(2.1452524847693106, 'improves')\n",
            "(2.296892749074168, 'did')\n",
            "(2.351600428452984, 'improved')\n",
            "(2.4372985451536002, 'effective')\n",
            "(3.1057975144919747, 'resulted')\n",
            "\n",
            "Conditional causal words\n",
            "(1.3903558534684948, 'increase')\n",
            "(1.4051896362780498, 'role')\n",
            "(1.4258534581022673, 'decrease')\n",
            "(1.4321473394467839, 'responsible')\n",
            "(1.4345276902495223, 'appeared')\n",
            "(1.4386656159026316, 'result')\n",
            "(1.4461063609129279, 'appear')\n",
            "(1.7400567109554084, 'play')\n",
            "(1.779270577898176, 'reduce')\n",
            "(1.9529533346292798, 'improve')\n",
            "\n",
            "Correlational words\n",
            "(1.9401005361322843, 'increased')\n",
            "(2.155204530627461, 'correlation')\n",
            "(2.2063984150902702, 'received')\n",
            "(2.228427558760069, 'predictors')\n",
            "(2.3091118807743407, 'related')\n",
            "(2.3623556727190897, 'correlated')\n",
            "(2.413192943770799, 'association')\n",
            "(2.486996702749647, 'predictor')\n",
            "(3.0963024082184, 'predict')\n",
            "(5.3290062727755725, 'associated')\n",
            "\n"
          ]
        }
      ],
      "source": [
        "## LinearSVC will build four binary classifier, \"0 vs. others\", \"1 vs. others\", \"2 vs. others\", \"3 vs. others\"\n",
        "## and then pick the most confident prediction as the final prediction.\n",
        "\n",
        "## Linear SVC also ranks all features based on their contribution to distinguish the two concepts in each binary classifier\n",
        "## For category \"No relationship\", get all features and their weights and sort them in increasing order\n",
        "feature_ranks_0 = sorted(zip(svm_clf.coef_[0], unigram_tfidf_vectorizer.get_feature_names_out()))\n",
        "\n",
        "## get the 10 features that are best indicators of 0 label (they are at the bottom of the ranked list)\n",
        "label_0_10 = feature_ranks_0[-10:]\n",
        "print(\"No relationship words\")\n",
        "for i in range(0, len(label_0_10)):\n",
        "    print(label_0_10[i])\n",
        "print()\n",
        "\n",
        "## For category \"Direct causal\", get all features and their weights and sort them in increasing order\n",
        "feature_ranks_1 = sorted(zip(svm_clf.coef_[1], unigram_tfidf_vectorizer.get_feature_names_out()))\n",
        "\n",
        "## get the 10 features that are best indicators of 1 label (they are at the bottom of the ranked list)\n",
        "label_1_10 = feature_ranks_1[-10:]\n",
        "print(\"Direct causal words\")\n",
        "for i in range(0, len(label_1_10)):\n",
        "    print(label_1_10[i])\n",
        "print()\n",
        "\n",
        "## For category \"Conditional causal\", get all features and their weights and sort them in increasing order\n",
        "feature_ranks_2 = sorted(zip(svm_clf.coef_[2], unigram_tfidf_vectorizer.get_feature_names_out()))\n",
        "\n",
        "## get the 10 features that are best indicators of 2 label (they are at the bottom of the ranked list)\n",
        "label_2_10 = feature_ranks_2[-10:]\n",
        "print(\"Conditional causal words\")\n",
        "for i in range(0, len(label_2_10)):\n",
        "    print(label_2_10[i])\n",
        "print()\n",
        "\n",
        "## For category \"Correlational\", get all features and their weights and sort them in increasing order\n",
        "feature_ranks_3 = sorted(zip(svm_clf.coef_[3], unigram_tfidf_vectorizer.get_feature_names_out()))\n",
        "\n",
        "## get the 10 features that are best indicators of 3 label (they are at the bottom of the ranked list)\n",
        "label_3_10 = feature_ranks_3[-10:]\n",
        "print(\"Correlational words\")\n",
        "for i in range(0, len(label_3_10)):\n",
        "    print(label_3_10[i])\n",
        "print()\n"
      ]
    },
    {
      "cell_type": "markdown",
      "metadata": {
        "id": "QnxMX7TytmrR"
      },
      "source": [
        "### Step 5: Test the LinearSVC classifier"
      ]
    },
    {
      "cell_type": "code",
      "execution_count": 11,
      "metadata": {
        "colab": {
          "base_uri": "https://localhost:8080/"
        },
        "id": "jamrk9wrtmrR",
        "outputId": "8d17116a-2aca-449f-fdf9-688a5467522f"
      },
      "outputs": [
        {
          "output_type": "execute_result",
          "data": {
            "text/plain": [
              "0.7357259380097879"
            ]
          },
          "metadata": {},
          "execution_count": 11
        }
      ],
      "source": [
        "# test the classifier on the test data set, print accuracy score\n",
        "\n",
        "svm_clf.score(X_test_vec, y_test)"
      ]
    },
    {
      "cell_type": "code",
      "execution_count": 12,
      "metadata": {
        "colab": {
          "base_uri": "https://localhost:8080/"
        },
        "id": "nxilUDh7tmrS",
        "outputId": "ab814be7-9cf4-4cdf-fd62-1b19d86b84f0"
      },
      "outputs": [
        {
          "output_type": "stream",
          "name": "stdout",
          "text": [
            "[[249  21   5  26]\n",
            " [ 21  47   4  13]\n",
            " [ 11  13  12   8]\n",
            " [ 26  11   3 143]]\n",
            "\n",
            "              precision    recall  f1-score   support\n",
            "\n",
            "           0       0.81      0.83      0.82       301\n",
            "           1       0.51      0.55      0.53        85\n",
            "           2       0.50      0.27      0.35        44\n",
            "           3       0.75      0.78      0.77       183\n",
            "\n",
            "    accuracy                           0.74       613\n",
            "   macro avg       0.64      0.61      0.62       613\n",
            "weighted avg       0.73      0.74      0.73       613\n",
            "\n"
          ]
        }
      ],
      "source": [
        "# print confusion matrix and classification report\n",
        "\n",
        "from sklearn.metrics import confusion_matrix\n",
        "y_pred = svm_clf.predict(X_test_vec)\n",
        "cm = confusion_matrix(y_test, y_pred, labels = [0,1,2,3])\n",
        "print(cm)\n",
        "print()\n",
        "\n",
        "from sklearn.metrics import classification_report\n",
        "target_names = ['0', '1', '2', '3']\n",
        "print(classification_report(y_test, y_pred, target_names = target_names))"
      ]
    },
    {
      "cell_type": "markdown",
      "metadata": {
        "id": "NchfuN0vtmrS"
      },
      "source": [
        "#### Step 5.1 Interpret the prediction result"
      ]
    },
    {
      "cell_type": "code",
      "execution_count": 13,
      "metadata": {
        "colab": {
          "base_uri": "https://localhost:8080/"
        },
        "id": "y9ytNg9rtmrS",
        "outputId": "3d7e2cb5-e611-4e45-84dc-afa8f1617197"
      },
      "outputs": [
        {
          "output_type": "stream",
          "name": "stdout",
          "text": [
            "[ 0.70898614 -1.24137025 -1.49552454 -0.50387148]\n",
            "0\n",
            "Levels of cholesterol fractions in patients with JIA were found within the normal range.\n"
          ]
        }
      ],
      "source": [
        "## get the confidence scores for all test examples from each of the four binary classifiers\n",
        "svm_confidence_scores = svm_clf.decision_function(X_test_vec)\n",
        "## get the confidence score for the first test example\n",
        "print(svm_confidence_scores[0])\n",
        "\n",
        "## Confirm by printing out the actual prediction\n",
        "print(y_test[0])\n",
        "print(X[0])"
      ]
    },
    {
      "cell_type": "markdown",
      "metadata": {
        "id": "088qxOwqtmrS"
      },
      "source": [
        "because the confidence score is the highest for category 0, the prediction should be (and is as seen above) 0."
      ]
    },
    {
      "cell_type": "code",
      "execution_count": 14,
      "metadata": {
        "colab": {
          "base_uri": "https://localhost:8080/"
        },
        "id": "9dQMxZmXtmrS",
        "outputId": "a4fd5b4f-154a-4105-f989-6a4bd6b04add"
      },
      "outputs": [
        {
          "output_type": "execute_result",
          "data": {
            "text/plain": [
              "array([0.69978076, 0.07508116, 0.02046983, 0.20466825])"
            ]
          },
          "metadata": {},
          "execution_count": 14
        }
      ],
      "source": [
        "# output prediction probs\n",
        "\n",
        "from sklearn.calibration import CalibratedClassifierCV\n",
        "svm_calibrated = CalibratedClassifierCV(svm_clf) \n",
        "svm_calibrated.fit(X_train_vec, y_train)\n",
        "y_test_proba = svm_calibrated.predict_proba(X_test_vec)\n",
        "y_test_proba[0]"
      ]
    },
    {
      "cell_type": "markdown",
      "metadata": {
        "id": "tV99m1vxtmrT"
      },
      "source": [
        "#### Step 5.2 Error Analysis"
      ]
    },
    {
      "cell_type": "code",
      "execution_count": 15,
      "metadata": {
        "colab": {
          "base_uri": "https://localhost:8080/"
        },
        "id": "ibojcYWStmrT",
        "outputId": "3cc48a44-dcbc-456d-be0c-d55b6c2996d0"
      },
      "outputs": [
        {
          "output_type": "stream",
          "name": "stdout",
          "text": [
            "correlational examples that are mistakenly predicted as no relationship -\n",
            "\n",
            "Adopting a home-like model of residential care may be associated with reduced prevalence and costs of PIMs.\n",
            "In ACS patients, without previous history of DM, MS is highly prevalent.\n",
            "Reproductive factors were to some extent associated with all subtypes; the strongest trends were with luminal-like subtypes.\n",
            "Distractions are prevalent in ORs and in this study were linked to deterioration in intraoperative patient safety checks.\n",
            "Extrapulmonary manifestations may be useful clues for diagnosis.\n",
            "Oral impacts were more frequently reported in T2D cases than controls.\n",
            "More than three-fourths of the patients in this study had a history of smoking, which is considered a triggering or aggravating factor for PPP.\n",
            "Chemerin showed positive correlations with potent health threatening components of lipid profile including triglyceride and cholesterol levels in adolescents.\n",
            "Data from NIV can identify a change in breathing patterns that predicts severe AECOPD.\n",
            "Severe traumatic injury produced substantial hypocholesterolemia that is greater with chest injury, shock, and RBC transfusion, but less with brain injury.\n",
            "In this large multinational study, treatment with SGLT-2i versus other glucose-lowering drugs was associated with a lower risk of HHF and death, suggesting that the benefits seen with empagliflozin in a randomized trial may be a class effect applicable to a broad population of patients with type 2 diabetes  mellitus in real-world practice.\n",
            "Therefore, total lymphocyte count may be considered a nutritional marker.\n",
            "Based on the comparatively smaller observed differences associated with menopausal status than with chronological aging, the  significance of a more unfavorable lipid profile in a later reproductive stage may be less obvious than previously thought.\n",
            "Combining novel urinary biomarkers of renal injury with a creatinine-based metric soon after cardiac surgery provided excellent prognostic utility for serious adverse outcomes.\n",
            "BCS who adopted several healthy behaviors simultaneously had better HRQOL than one healthy behavior alone.\n",
            "Although the reverse association was not found, MDD-R tends to be also associated with subsequent development of obesity, but larger studies  are needed to fully assess this issue.\n",
            "The CHA2DS2-VASc tool predicts thromboembolic events and overall mortality in patients without atrial fibrillation who have implantable devices.\n",
            "The prevalence of FH was the highest in younger age patients, and >60% of patients with probable FH displayed CHD.\n",
            "The majority of cases of hemivertebra had coexisting anomalies, and in these cases the rate of perinatal loss was high.\n",
            "An upper value of CRP above 9.9 mg/L is independly predictive of mortality, mainly from cardiovascular causes.\n",
            "This study found that children exposed to the Jazan war had more anxiety.\n",
            "This prospective study showed that the evolution of vascular TOD is different in participants with type 2 diabetes compared with those with MetS.\n",
            "In this pilot study, we found that the combination of SIRS criteria and PCT levels is useful for the early detection of sepsis in ED patients with suspected infection.\n",
            "In this observational study, HIV-infected individuals after first ACS exhibited worse lipid profiles than controls particularly during the first 6 months while receiving less potent statins.\n",
            "\"However, no predictive criterion of long-term results could be established, except initial clinical severity and clinical change one month after treatment.\"\n",
            "Epidemiological trends are more or less common to those of developing countries with a predominance of invasive ductal carcinoma.\n",
            "errors: 26\n",
            "\n",
            "no relationship examples that are mistakenly predicted as correlational -\n",
            "\n",
            "It appears important for pharmacists to show their daily involvement in the quality of medical care.\n",
            "Whereas kitchen and nursing-related aspects of nutritional care seem  to be widely implemented in German NHs, management and quality assurance demands  are often not met.\n",
            "Our study confirms the well-known negative metabolic changes in PCOS patients.\n",
            "Although conventional echocardiography revealed no difference between patients with type 1 DM and healthy children, TDE showed dysfunctions of  both ventricles.\n",
            "\"Further research may identify relationships between disease-related weight loss and currently used prognostic factors in MM, further  defining the role of this clinical factor in prognostic stratification.\"\n",
            "IMPACT: These findings, coupled with evidence that statin use is associated with  reduced recurrence risk, suggest that lipid levels should be explored as a modifiable risk factor for prostate cancer recurrence.\n",
            "Faster aspart and IAsp were confirmed noninferior in a basal-bolus regimen regarding change from baseline in HbA1c.\n",
            "\"When used for evaluation of a palpable breast mass with negative traditional imaging, breast MRI likely offers low yield of cancer diagnosis and low specificity.\"\n",
            "Thus, same-statin rechallenge might warrant increased utilization.\n",
            "Inflammation remained present throughout a 2-year follow-up in patients with an initial CRP higher than 5 mg/L.\n",
            "\" RSL for breast conservation surgery has a low rate of positive margins even early in a surgeons experience.\n",
            "The pattern of discrete, large reflective cells observed using LSCM are likely to be GCs.\n",
            "Thus, clinicians might be able to monitor PCa patients who have a high risk of development of arterial stiffness after ADT administration by referring to LDL-C/HDL-C levels.\n",
            "Therefore, first trimester or postpartum baselines will underestimate the true extent of pregnancy-related changes.\n",
            "A pervasive underestimation of the association between obesity and overall PCa risk may exist in the literature.\n",
            "Refugee children may arrive in the United States with elevated blood lead levels.\n",
            "Our findings along with other studies support this concept that increased BMI is of clinical relevance in the context of infertility in men since our data revealed an inverse correlation between seminal leptin level and BMI in  infertile men.\n",
            "These findings have implications in the clinical availability of serum Hb as a predictor of MS and NAFLD.\n",
            "Measuring blood lipids may aid in counseling individual women about initiating MHT and cardiovascular risk mitigation.\n",
            "The RPL patients and controls had a similar proportion of women with  elevated fructosamine considered diagnostic of diabetes.\n",
            "Ours is the first study to investigate genetic variability associated with inflammation, behaviorally related variables, and PCF for BCS.\n",
            "Despite of the documented strong inverse relationships between Diabetes Mellitus (DM) and male/female fertility, and also between IR and female  infertility via ovarian functions as in polycystic ovary syndrome, to our knowledge, there is no report about any influence of IR on male fertility.\n",
            "Thus, in this population, BMI changes should be regularly assessed.\n",
            "For this, its important that nutrition studies and, more importantly, control interventions take into account this spatial heterogeneity in the distribution of nutritional deficits and their underlying associated factors.\n",
            "Further investigations should address the rationale for the early detection and control of glucose fluctuation in the era of universal statin use for CAD patients.\n",
            "Further assessment could delineate relationship between serum lipid levels and depression with suicidality in other ethnic groups.\n",
            "errors: 26\n"
          ]
        }
      ],
      "source": [
        "# print out specific type of error for further analysis\n",
        "\n",
        "# print out the correlational examples that are mistakenly predicted as no relationship\n",
        "# according to the confusion matrix, there should be 26 such examples\n",
        "\n",
        "print(\"correlational examples that are mistakenly predicted as no relationship -\")\n",
        "print()\n",
        "err_cnt = 0\n",
        "for i in range(0, len(y_test)):\n",
        "    if(y_test[i] == 3 and y_pred[i] == 0):\n",
        "        print(X_test[i])\n",
        "        err_cnt = err_cnt + 1\n",
        "print(\"errors:\", err_cnt)\n",
        "print()\n",
        "\n",
        "# print out the no relationship examples that are mistakenly predicted as correlational\n",
        "# according to the confusion matrix, there should be 26 such examples\n",
        "\n",
        "print(\"no relationship examples that are mistakenly predicted as correlational -\")\n",
        "print()\n",
        "err_cnt = 0\n",
        "for i in range(0, len(y_test)):\n",
        "    if(y_test[i] == 0 and y_pred[i] == 3):\n",
        "        print(X_test[i])\n",
        "        err_cnt = err_cnt + 1\n",
        "print(\"errors:\", err_cnt)"
      ]
    },
    {
      "cell_type": "code",
      "source": [
        "# print out specific type of error for further analysis\n",
        "\n",
        "# print out the conditional causal examples that are mistakenly predicted as direct causal\n",
        "# according to the confusion matrix, there should be 13 such examples\n",
        "\n",
        "print(\"conditional causal examples that are mistakenly predicted as direct causal -\")\n",
        "print()\n",
        "err_cnt = 0\n",
        "for i in range(0, len(y_test)):\n",
        "    if(y_test[i] == 2 and y_pred[i] == 1):\n",
        "        print(X_test[i])\n",
        "        err_cnt = err_cnt + 1\n",
        "print(\"errors:\", err_cnt)\n",
        "print()\n",
        "\n",
        "# print out the direct causal examples that are mistakenly predicted as conditional causal\n",
        "# according to the confusion matrix, there should be 4 such examples\n",
        "\n",
        "print(\"direct causal examples that are mistakenly predicted as conditional causal -\")\n",
        "print()\n",
        "err_cnt = 0\n",
        "for i in range(0, len(y_test)):\n",
        "    if(y_test[i] == 1 and y_pred[i] == 2):\n",
        "        print(X_test[i])\n",
        "        err_cnt = err_cnt + 1\n",
        "print(\"errors:\", err_cnt)"
      ],
      "metadata": {
        "colab": {
          "base_uri": "https://localhost:8080/"
        },
        "id": "2RBSzpXQxALY",
        "outputId": "fd3edc0c-f06f-4464-c0db-e87f4d30b3af"
      },
      "execution_count": 16,
      "outputs": [
        {
          "output_type": "stream",
          "name": "stdout",
          "text": [
            "conditional causal examples that are mistakenly predicted as direct causal -\n",
            "\n",
            "Multiple and immediate access to the web-based education program at home may prove useful as a source of reference for women with GDM.\n",
            "We conclude that PTG tends to lead to less psychological distress overall but particularly so in a high impact context.(PsycINFO Database Record\n",
            "Hence, this community-based overweight and obesity treatment program may help accommodate the need for improvements in treatment availability and accessibility.\n",
            "Thus, the gut may mediate vitamin D effects.\n",
            "Incorporating culturally centered individualized MT may be an effective intervention to reduce stressors.\n",
            "\"However, the results confirm that the vaccine is safe and suggest that vaccination may have clinical benefit in patients with low HER2-expressing tumors, specifically TNBC.\"\n",
            "Although not significant, IR levels decreased over time, which could be indicative of a clinical improvement.\n",
            "The survival benefit suggests that diabetes screening and maintenance of good glycemic control may improve outcomes in EC.\n",
            "Combining the provision of information with emotional support may be particularly beneficial.\n",
            "\" In a randomized controlled trial of 230 infants with genetic risk factors for celiac disease, we did not find evidence that weaning to a diet of extensively hydrolyzed formula compared with cows milk-based formula would decrease the risk for celiac disease later in life.\n",
            "Apelin may not be directly involved in the regulation of maternal insulin sensitivity.\n",
            "The balance between LDL-C and HDL-C, or LDL-C/HDL-C, might have an impact on the development of arterial stiffness after ADT administration.\n",
            "Our results suggest that the SNP rs3775291 in TLR3 may influence patient outcome.\n",
            "errors: 13\n",
            "\n",
            "direct causal examples that are mistakenly predicted as conditional causal -\n",
            "\n",
            "Eyes with previous surgical procedure was prone to CCD occurrence and longer axial length was protective against CCD.\n",
            "\"RGPC did not appear to directly affect general risk-taking behaviors  or STIs, since it focuses on diabetes and reproductive health issues.\"\n",
            "Intensified therapy was effective, but target attainment was still low at 40.3% or 13.9% with regard to the new 2011 guidelines issued by the European Atherosclerosis Society (EAS) and the ESC on dyslipidemias.\n",
            "Ziv-aflibercept appears to be safe and effective in patients with refractory DME previously treated with other anti-VEGF agents in the short term.\n",
            "errors: 4\n"
          ]
        }
      ]
    },
    {
      "cell_type": "markdown",
      "metadata": {
        "id": "wBa_amRKtmrT"
      },
      "source": [
        "### Step 6. Cross Validation"
      ]
    },
    {
      "cell_type": "code",
      "execution_count": 17,
      "metadata": {
        "id": "uU2k8KqhtmrT"
      },
      "outputs": [],
      "source": [
        "# Cross validation\n",
        "# for more details see https://scikit-learn.org/stable/modules/cross_validation.html\n",
        "# evaluation metrics provided by sklearn - https://scikit-learn.org/stable/modules/model_evaluation.html#scoring-parameter\n",
        "\n",
        "# if you need to output only one metric, such as accuracy or f1_macro, use the \"cross_val_score\" function\n",
        "\n",
        "from sklearn.pipeline import Pipeline\n",
        "from sklearn.model_selection import cross_val_score\n",
        "\n",
        "svm_clf_pipe = Pipeline([('vect', TfidfVectorizer(encoding = 'latin-1', use_idf = True)),('svm', LinearSVC(C = 1))])\n",
        "scores = cross_val_score(svm_clf_pipe, X, y, cv = 5, scoring = 'f1_macro')"
      ]
    },
    {
      "cell_type": "code",
      "execution_count": 18,
      "metadata": {
        "id": "WQ7S-Sr3tmrT"
      },
      "outputs": [],
      "source": [
        "# if you need to output multiple metrics, such as accuracy and f1_macro, use the \"cross_validate\" function\n",
        "from sklearn.model_selection import cross_validate\n",
        "\n",
        "scoring = ['accuracy', 'f1_macro', 'f1_micro', 'precision_macro', 'recall_macro']\n",
        "svm_clf_pipe = Pipeline([('vect', TfidfVectorizer(encoding = 'latin-1', use_idf = True)),('svm', LinearSVC(C=1))])\n",
        "scores = cross_validate(svm_clf_pipe, X, y, cv = 5, scoring = scoring, return_train_score = True)"
      ]
    },
    {
      "cell_type": "code",
      "execution_count": 19,
      "metadata": {
        "colab": {
          "base_uri": "https://localhost:8080/"
        },
        "id": "WMBP3k3XtmrU",
        "outputId": "c344c98c-12be-4415-927f-f4182643f1db"
      },
      "outputs": [
        {
          "output_type": "execute_result",
          "data": {
            "text/plain": [
              "['fit_time',\n",
              " 'score_time',\n",
              " 'test_accuracy',\n",
              " 'test_f1_macro',\n",
              " 'test_f1_micro',\n",
              " 'test_precision_macro',\n",
              " 'test_recall_macro',\n",
              " 'train_accuracy',\n",
              " 'train_f1_macro',\n",
              " 'train_f1_micro',\n",
              " 'train_precision_macro',\n",
              " 'train_recall_macro']"
            ]
          },
          "metadata": {},
          "execution_count": 19
        }
      ],
      "source": [
        "sorted(scores.keys())"
      ]
    },
    {
      "cell_type": "code",
      "execution_count": 20,
      "metadata": {
        "id": "7ApxUOU5tmrU"
      },
      "outputs": [],
      "source": [
        "# retrieve scores from a metric\n",
        "def get_metric_scores (scores, metric, train_or_test, verbose=False):\n",
        "    metric_name = train_or_test + '_' + metric\n",
        "    print(metric_name) \n",
        "\n",
        "    metric_scores = scores[metric_name]\n",
        "    if (verbose == True):\n",
        "        print(metric_scores)\n",
        "    avg = sum(metric_scores) / len(metric_scores)\n",
        "    print('average')\n",
        "    avg_formatted = \"{:.3f}\".format(avg)\n",
        "    print(avg_formatted)"
      ]
    },
    {
      "cell_type": "code",
      "execution_count": 21,
      "metadata": {
        "colab": {
          "base_uri": "https://localhost:8080/"
        },
        "id": "bpfyp0xktmrU",
        "outputId": "b8a7cc63-e0f7-40b9-c578-b6ecc3824ee2"
      },
      "outputs": [
        {
          "output_type": "stream",
          "name": "stdout",
          "text": [
            "test_accuracy\n",
            "[0.74877651 0.7369281  0.75653595 0.73529412 0.72875817]\n",
            "average\n",
            "0.741\n"
          ]
        }
      ],
      "source": [
        "#retrieve test accuracy scores\n",
        "get_metric_scores(scores, 'accuracy', 'test', verbose=True)"
      ]
    },
    {
      "cell_type": "code",
      "execution_count": 22,
      "metadata": {
        "colab": {
          "base_uri": "https://localhost:8080/"
        },
        "id": "6of_O5ultmrU",
        "outputId": "7e54cde3-530b-41c1-d2ea-db079f3aaa31"
      },
      "outputs": [
        {
          "output_type": "stream",
          "name": "stdout",
          "text": [
            "train_accuracy\n",
            "average\n",
            "0.999\n"
          ]
        }
      ],
      "source": [
        "#retrieve training accuracy scores\n",
        "get_metric_scores(scores, 'accuracy', 'train')"
      ]
    },
    {
      "cell_type": "code",
      "execution_count": 23,
      "metadata": {
        "id": "Q4tPIeuptmrU"
      },
      "outputs": [],
      "source": [
        "# compare performance with different choice of C values\n",
        "\n",
        "svm_clf_pipe2 = Pipeline([('vect', TfidfVectorizer(encoding = 'latin-1', use_idf = True)),('svm', LinearSVC(C = 0.5))])\n",
        "scores2 = cross_validate(svm_clf_pipe2, X, y, cv = 5, scoring = scoring, return_train_score = True)\n",
        "\n",
        "svm_clf_pipe3 = Pipeline([('vect', TfidfVectorizer(encoding = 'latin-1', use_idf = True)),('svm', LinearSVC(C = 2))])\n",
        "scores3 = cross_validate(svm_clf_pipe3, X, y, cv = 5, scoring = scoring, return_train_score = True)"
      ]
    },
    {
      "cell_type": "code",
      "execution_count": 24,
      "metadata": {
        "colab": {
          "base_uri": "https://localhost:8080/"
        },
        "id": "yFsiVhsNtmrV",
        "outputId": "1c0c54ce-9d30-40f4-8242-f9373a7990a8"
      },
      "outputs": [
        {
          "output_type": "stream",
          "name": "stdout",
          "text": [
            "C=1\n",
            "\n",
            "train_accuracy\n",
            "average\n",
            "0.999\n",
            "test_accuracy\n",
            "average\n",
            "0.741\n",
            "\n",
            "C=0.5\n",
            "\n",
            "train_accuracy\n",
            "average\n",
            "0.991\n",
            "test_accuracy\n",
            "average\n",
            "0.744\n",
            "\n",
            "C=2\n",
            "\n",
            "train_accuracy\n",
            "average\n",
            "1.000\n",
            "test_accuracy\n",
            "average\n",
            "0.735\n"
          ]
        }
      ],
      "source": [
        "# compare the effect of different C values\n",
        "# C=1\n",
        "print('C=1\\n')\n",
        "get_metric_scores(scores, 'accuracy', 'train')\n",
        "get_metric_scores(scores, 'accuracy', 'test')\n",
        "\n",
        "# C=0.5\n",
        "print('\\nC=0.5\\n')\n",
        "get_metric_scores(scores2, 'accuracy', 'train')\n",
        "get_metric_scores(scores2, 'accuracy', 'test')\n",
        "\n",
        "# C=2\n",
        "print('\\nC=2\\n')\n",
        "get_metric_scores(scores3, 'accuracy', 'train')\n",
        "get_metric_scores(scores3, 'accuracy', 'test')\n",
        "\n"
      ]
    },
    {
      "cell_type": "markdown",
      "metadata": {
        "id": "Ds25zTJrtmrV"
      },
      "source": [
        "***\n",
        "\n"
      ]
    },
    {
      "cell_type": "markdown",
      "metadata": {
        "id": "b9QtAywAtmrV"
      },
      "source": [
        "## BERT"
      ]
    },
    {
      "cell_type": "code",
      "execution_count": 25,
      "metadata": {
        "colab": {
          "base_uri": "https://localhost:8080/"
        },
        "id": "-v1b0xNctmrV",
        "outputId": "19495d40-e21e-4874-d6cc-9545c9518ea6"
      },
      "outputs": [
        {
          "output_type": "stream",
          "name": "stdout",
          "text": [
            "Cloning into 'bert-sklearn'...\n",
            "remote: Enumerating objects: 259, done.\u001b[K\n",
            "remote: Total 259 (delta 0), reused 0 (delta 0), pack-reused 259\u001b[K\n",
            "Receiving objects: 100% (259/259), 516.15 KiB | 21.51 MiB/s, done.\n",
            "Resolving deltas: 100% (131/131), done.\n",
            "Looking in indexes: https://pypi.org/simple, https://us-python.pkg.dev/colab-wheels/public/simple/\n",
            "Processing /content/bert-sklearn\n",
            "\u001b[33m  DEPRECATION: A future pip version will change local packages to be built in-place without first copying to a temporary directory. We recommend you use --use-feature=in-tree-build to test your packages with this new behavior before it becomes the default.\n",
            "   pip 21.3 will remove support for this functionality. You can find discussion regarding this at https://github.com/pypa/pip/issues/7555.\u001b[0m\n",
            "Requirement already satisfied: torch>=0.4.1 in /usr/local/lib/python3.7/dist-packages (from bert-sklearn==0.3.1) (1.12.1+cu113)\n",
            "Requirement already satisfied: scikit-learn in /usr/local/lib/python3.7/dist-packages (from bert-sklearn==0.3.1) (1.0.2)\n",
            "Requirement already satisfied: numpy in /usr/local/lib/python3.7/dist-packages (from bert-sklearn==0.3.1) (1.21.6)\n",
            "Requirement already satisfied: pandas in /usr/local/lib/python3.7/dist-packages (from bert-sklearn==0.3.1) (1.3.5)\n",
            "Collecting boto3\n",
            "  Downloading boto3-1.24.96-py3-none-any.whl (132 kB)\n",
            "\u001b[K     |████████████████████████████████| 132 kB 29.4 MB/s \n",
            "\u001b[?25hRequirement already satisfied: requests in /usr/local/lib/python3.7/dist-packages (from bert-sklearn==0.3.1) (2.23.0)\n",
            "Requirement already satisfied: tqdm in /usr/local/lib/python3.7/dist-packages (from bert-sklearn==0.3.1) (4.64.1)\n",
            "Requirement already satisfied: typing-extensions in /usr/local/lib/python3.7/dist-packages (from torch>=0.4.1->bert-sklearn==0.3.1) (4.1.1)\n",
            "Collecting s3transfer<0.7.0,>=0.6.0\n",
            "  Downloading s3transfer-0.6.0-py3-none-any.whl (79 kB)\n",
            "\u001b[K     |████████████████████████████████| 79 kB 9.5 MB/s \n",
            "\u001b[?25hCollecting botocore<1.28.0,>=1.27.96\n",
            "  Downloading botocore-1.27.96-py3-none-any.whl (9.3 MB)\n",
            "\u001b[K     |████████████████████████████████| 9.3 MB 68.2 MB/s \n",
            "\u001b[?25hCollecting jmespath<2.0.0,>=0.7.1\n",
            "  Downloading jmespath-1.0.1-py3-none-any.whl (20 kB)\n",
            "Requirement already satisfied: python-dateutil<3.0.0,>=2.1 in /usr/local/lib/python3.7/dist-packages (from botocore<1.28.0,>=1.27.96->boto3->bert-sklearn==0.3.1) (2.8.2)\n",
            "Collecting urllib3<1.27,>=1.25.4\n",
            "  Downloading urllib3-1.26.12-py2.py3-none-any.whl (140 kB)\n",
            "\u001b[K     |████████████████████████████████| 140 kB 60.8 MB/s \n",
            "\u001b[?25hRequirement already satisfied: six>=1.5 in /usr/local/lib/python3.7/dist-packages (from python-dateutil<3.0.0,>=2.1->botocore<1.28.0,>=1.27.96->boto3->bert-sklearn==0.3.1) (1.15.0)\n",
            "Requirement already satisfied: pytz>=2017.3 in /usr/local/lib/python3.7/dist-packages (from pandas->bert-sklearn==0.3.1) (2022.4)\n",
            "Requirement already satisfied: idna<3,>=2.5 in /usr/local/lib/python3.7/dist-packages (from requests->bert-sklearn==0.3.1) (2.10)\n",
            "Requirement already satisfied: chardet<4,>=3.0.2 in /usr/local/lib/python3.7/dist-packages (from requests->bert-sklearn==0.3.1) (3.0.4)\n",
            "Requirement already satisfied: certifi>=2017.4.17 in /usr/local/lib/python3.7/dist-packages (from requests->bert-sklearn==0.3.1) (2022.9.24)\n",
            "  Downloading urllib3-1.25.11-py2.py3-none-any.whl (127 kB)\n",
            "\u001b[K     |████████████████████████████████| 127 kB 68.8 MB/s \n",
            "\u001b[?25hRequirement already satisfied: threadpoolctl>=2.0.0 in /usr/local/lib/python3.7/dist-packages (from scikit-learn->bert-sklearn==0.3.1) (3.1.0)\n",
            "Requirement already satisfied: scipy>=1.1.0 in /usr/local/lib/python3.7/dist-packages (from scikit-learn->bert-sklearn==0.3.1) (1.7.3)\n",
            "Requirement already satisfied: joblib>=0.11 in /usr/local/lib/python3.7/dist-packages (from scikit-learn->bert-sklearn==0.3.1) (1.2.0)\n",
            "Building wheels for collected packages: bert-sklearn\n",
            "  Building wheel for bert-sklearn (setup.py) ... \u001b[?25l\u001b[?25hdone\n",
            "  Created wheel for bert-sklearn: filename=bert_sklearn-0.3.1-py3-none-any.whl size=54247 sha256=93d8da237c867030486b6a9f5a3c9933d620c3585e95e209f28c5eceb615ccd2\n",
            "  Stored in directory: /root/.cache/pip/wheels/e7/d4/73/12b2219a5cd4cd8c7acfd72204603ce34b6d2e4f620b205a80\n",
            "Successfully built bert-sklearn\n",
            "Installing collected packages: urllib3, jmespath, botocore, s3transfer, boto3, bert-sklearn\n",
            "  Attempting uninstall: urllib3\n",
            "    Found existing installation: urllib3 1.24.3\n",
            "    Uninstalling urllib3-1.24.3:\n",
            "      Successfully uninstalled urllib3-1.24.3\n",
            "Successfully installed bert-sklearn-0.3.1 boto3-1.24.96 botocore-1.27.96 jmespath-1.0.1 s3transfer-0.6.0 urllib3-1.25.11\n"
          ]
        }
      ],
      "source": [
        "# install BERT sklearn wrapper written by charles9n\n",
        "\n",
        "!git clone -b master https://github.com/charles9n/bert-sklearn\n",
        "!cd bert-sklearn; pip install ."
      ]
    },
    {
      "cell_type": "code",
      "execution_count": 26,
      "metadata": {
        "id": "PQFjpx8xtmrV"
      },
      "outputs": [],
      "source": [
        "df = p.read_csv(\"/content/drive/MyDrive/Colab Notebooks/pubmed_causal_language_use.csv\")"
      ]
    },
    {
      "cell_type": "code",
      "execution_count": 27,
      "metadata": {
        "colab": {
          "base_uri": "https://localhost:8080/"
        },
        "id": "jXsJH7DotmrV",
        "outputId": "9dc0b741-34ca-418e-8144-f1c895c91a43"
      },
      "outputs": [
        {
          "output_type": "stream",
          "name": "stdout",
          "text": [
            "(3061, 2)\n",
            "(1000, 2)\n"
          ]
        }
      ],
      "source": [
        "# prepare train and test data\n",
        "# since fine tuning a BERT model still requires a significant amount of time, \n",
        "# only 1000 training examples and 1000 test examples will be used for demo purpose.\n",
        "\n",
        "dff = df.sample(frac = 1)\n",
        "#train_size = int(0.01 * len(dff))\n",
        "#df_train = dff[:train_size]\n",
        "#df_test = dff[train_size:]\n",
        "# df_train_svm = dff[:100000]\n",
        "df_train_bert = dff[:5000]\n",
        "df_test = dff[-1000:]\n",
        "# print(df_train_svm.shape)\n",
        "print(df_train_bert.shape)\n",
        "print(df_test.shape)\n",
        "\n",
        "# X_train_svm, y_train_svm = df_train_svm['Phrase'].values, df_train_svm['Sentiment'].values\n",
        "\n",
        "X_train_bert, y_train_bert = df_train_bert['sentence'].values, df_train_bert['label'].values\n",
        "\n",
        "X_test, y_test = df_test['sentence'].values, df_test['label'].values"
      ]
    },
    {
      "cell_type": "code",
      "execution_count": 28,
      "metadata": {
        "colab": {
          "base_uri": "https://localhost:8080/",
          "height": 729,
          "referenced_widgets": [
            "4176e27f7e7c4248a559f8c635e569a5",
            "2ce9543eb9254e56b49772d14ca5d7be",
            "8cce603d184c41d79810a9d7d12e8d52",
            "945ba356d83247fb851d3f70cafae92b",
            "e349391cc96042739f13bf268a031d6b",
            "73011deec6714ca39d4d71c73d439baf",
            "32df3eb628034b7e866a70b10ab4433d",
            "4cb0478b9ca9463f99ca091f33c7cfb7",
            "64babb4c3f6049b0ab73f4fbb399cf01",
            "9bf68043ae464f8c9364c2d47faf5e10",
            "35bc31c23fa54b22ac63a1a5cdd0c757",
            "1fb7d761c2ac4c01ac590a7771a82cc6",
            "9cfdf3362fb24d249c824a1197b989c8",
            "0387b726aa524438891a9f4011dbec8b",
            "65e9469041be458b97a3bf78c67e5da0",
            "0d842f129b194c3fb95307b1c5b02833",
            "40e5c6fd68334c2f8ca54fec064f043b",
            "2696854cade0488091d28f7d67978e31",
            "f9879e1def404fdea1df20b1a9dc0d1d",
            "f17bfa40e1dc4a98a01f6b39bdc41491",
            "7dfd04134ea547bc8f102641e37eedf9",
            "80db461d8a814914bd581f4a48bf834e",
            "a838002c227f477883eb04b7142c0c05",
            "b8734c4b3e0047d996acc8815656cb06",
            "8c409f6aad6a42c69871653d2218e818",
            "0e993f5e631d482b86d61e148a8cb1be",
            "4272ff6063524f89a3fefa0e6fdbb990",
            "769b5e61a05142a482bfa4b870ffd7a8",
            "de0173f493dc4ecf919a802b6877fe9b",
            "3380bbc75da64a6797609eeee945ad0c",
            "8e4652c528874a3c8afa46e83ac81bf6",
            "758a1f1746654b93b4e60efe0fc5cb46",
            "4a5552e18f954df8a032709b1dea69b5",
            "ebfd97e80bec464dba10502af754d960",
            "d517eb5087944d45b4e2e8b2bc1356cf",
            "f52257832b5940579467a3ee0157ff98",
            "1dd775c518074e7daed254cdefd9d2f4",
            "98093069566046f7b27822196df471cf",
            "a839ba96fe9e42a783749b84ca4b0eed",
            "03c313124d2c4fdeac9e400c371cea87",
            "c9a562a2cf0f49c29944399ea9dbd1f6",
            "5157fcf6129449abbe01224c4c5386d1",
            "1ce1dc2cf80f4c6b89660510fca64fd4",
            "122a475b35a440399da2093302d5c0ad",
            "72c632d924434f0192af987a8cef326a",
            "d39b0ae78c524242835e136e3492f7f4",
            "00bec59d21104297b997eb1a532fe63a",
            "28a9dd9027d74cec8ea8c7705736c19b",
            "e531ea05ce5e453f8009468aa70a3607",
            "c9895f38045741babf0a151602dd036b",
            "9d79e430b8244735846c78714dc682cb",
            "4dc539d73e6d4f369e9797097adf9084",
            "0763943199d9427dba65b56ca68aab5a",
            "933e8a339b584107b7b25db7e4a67ec4",
            "f8ca3487bb3e44058ae3b5d75c71a365",
            "7ed99395fc634bdd92c847ede5a3e6ce",
            "8d9c013d25fc495bbb2884a3a7b160f6",
            "63132ff54dfa449aba90941e8f99c088",
            "11ce787d1eb04663a8ae7a127ba46a25",
            "f6938ceb2e0e4757914c22a0fa984dbf",
            "15e3948ac37642e0a0c023dc6f9d2f3d",
            "37c09ca41fd540e3ae16dffbdc7bf18a",
            "a079e827a7344553a6140ae25ce9b8c9",
            "a40fce8789934e6fb3b860a98b6ac9fd",
            "0fc19987541f4b0684172588b22c24b3",
            "585447d1e6ab418ebedfd371451cf10f"
          ]
        },
        "id": "dxMLSFD3tmrW",
        "outputId": "f0571fa5-3ffc-404c-cc98-dd8dfdc604be"
      },
      "outputs": [
        {
          "output_type": "stream",
          "name": "stdout",
          "text": [
            "Building sklearn text classifier...\n",
            "BertClassifier()\n"
          ]
        },
        {
          "output_type": "stream",
          "name": "stderr",
          "text": [
            "100%|██████████| 231508/231508 [00:00<00:00, 254771.36B/s]\n"
          ]
        },
        {
          "output_type": "stream",
          "name": "stdout",
          "text": [
            "Loading bert-base-uncased model...\n"
          ]
        },
        {
          "output_type": "stream",
          "name": "stderr",
          "text": [
            "100%|██████████| 440473133/440473133 [00:36<00:00, 12004098.11B/s]\n",
            "100%|██████████| 433/433 [00:00<00:00, 120497.19B/s]\n"
          ]
        },
        {
          "output_type": "stream",
          "name": "stdout",
          "text": [
            "Defaulting to linear classifier/regressor\n",
            "Loading Pytorch checkpoint\n",
            "\n",
            "train data size: 2755, validation data size: 306\n",
            "\n"
          ]
        },
        {
          "output_type": "stream",
          "name": "stderr",
          "text": [
            "/usr/local/lib/python3.7/dist-packages/torch/utils/data/dataloader.py:566: UserWarning: This DataLoader will create 5 worker processes in total. Our suggested max number of worker in current system is 2, which is smaller than what this DataLoader is going to create. Please be aware that excessive worker creation might get DataLoader running slow or even freeze, lower the worker number to avoid potential slowness/freeze if necessary.\n",
            "  cpuset_checked))\n"
          ]
        },
        {
          "output_type": "display_data",
          "data": {
            "text/plain": [
              "Training  :   0%|          | 0/87 [00:00<?, ?it/s]"
            ],
            "application/vnd.jupyter.widget-view+json": {
              "version_major": 2,
              "version_minor": 0,
              "model_id": "4176e27f7e7c4248a559f8c635e569a5"
            }
          },
          "metadata": {}
        },
        {
          "output_type": "stream",
          "name": "stderr",
          "text": [
            "/usr/local/lib/python3.7/dist-packages/bert_sklearn/model/pytorch_pretrained/optimization.py:275: UserWarning: This overload of add_ is deprecated:\n",
            "\tadd_(Number alpha, Tensor other)\n",
            "Consider using one of the following signatures instead:\n",
            "\tadd_(Tensor other, *, Number alpha) (Triggered internally at  ../torch/csrc/utils/python_arg_parser.cpp:1174.)\n",
            "  next_m.mul_(beta1).add_(1 - beta1, grad)\n"
          ]
        },
        {
          "output_type": "display_data",
          "data": {
            "text/plain": [
              "Validating:   0%|          | 0/39 [00:00<?, ?it/s]"
            ],
            "application/vnd.jupyter.widget-view+json": {
              "version_major": 2,
              "version_minor": 0,
              "model_id": "1fb7d761c2ac4c01ac590a7771a82cc6"
            }
          },
          "metadata": {}
        },
        {
          "output_type": "stream",
          "name": "stdout",
          "text": [
            "\n",
            "Epoch 1, Train loss: 0.8107, Val loss: 0.4235, Val accy: 85.62%\n",
            "\n"
          ]
        },
        {
          "output_type": "display_data",
          "data": {
            "text/plain": [
              "Training  :   0%|          | 0/87 [00:00<?, ?it/s]"
            ],
            "application/vnd.jupyter.widget-view+json": {
              "version_major": 2,
              "version_minor": 0,
              "model_id": "a838002c227f477883eb04b7142c0c05"
            }
          },
          "metadata": {}
        },
        {
          "output_type": "display_data",
          "data": {
            "text/plain": [
              "Validating:   0%|          | 0/39 [00:00<?, ?it/s]"
            ],
            "application/vnd.jupyter.widget-view+json": {
              "version_major": 2,
              "version_minor": 0,
              "model_id": "ebfd97e80bec464dba10502af754d960"
            }
          },
          "metadata": {}
        },
        {
          "output_type": "stream",
          "name": "stdout",
          "text": [
            "\n",
            "Epoch 2, Train loss: 0.2608, Val loss: 0.3429, Val accy: 88.89%\n",
            "\n"
          ]
        },
        {
          "output_type": "display_data",
          "data": {
            "text/plain": [
              "Training  :   0%|          | 0/87 [00:00<?, ?it/s]"
            ],
            "application/vnd.jupyter.widget-view+json": {
              "version_major": 2,
              "version_minor": 0,
              "model_id": "72c632d924434f0192af987a8cef326a"
            }
          },
          "metadata": {}
        },
        {
          "output_type": "display_data",
          "data": {
            "text/plain": [
              "Validating:   0%|          | 0/39 [00:00<?, ?it/s]"
            ],
            "application/vnd.jupyter.widget-view+json": {
              "version_major": 2,
              "version_minor": 0,
              "model_id": "7ed99395fc634bdd92c847ede5a3e6ce"
            }
          },
          "metadata": {}
        },
        {
          "output_type": "stream",
          "name": "stdout",
          "text": [
            "\n",
            "Epoch 3, Train loss: 0.1028, Val loss: 0.3295, Val accy: 89.22%\n",
            "\n"
          ]
        },
        {
          "output_type": "execute_result",
          "data": {
            "text/plain": [
              "BertClassifier(do_lower_case=True, label_list=array([0, 1, 2, 3]))"
            ]
          },
          "metadata": {},
          "execution_count": 28
        }
      ],
      "source": [
        "# fine tune a BERT base uncased model\n",
        "# since this wrapper has included vectorization using word embedding, no need to vectorize like in LinearSVC\n",
        "# first the pre-trained BERT model will be loaded in\n",
        "# then the training starts. 90% examples will be used as training examples and the other 10% as validation (parameter tuning)\n",
        "# default setting is 3 epoch. Each epoch takes in some training data\n",
        "from bert_sklearn import BertClassifier\n",
        "model = BertClassifier()         # text/text pair classification\n",
        "print(model)\n",
        "model.fit(X_train_bert, y_train_bert)"
      ]
    },
    {
      "cell_type": "code",
      "execution_count": 29,
      "metadata": {
        "id": "dJ8IUSCXtmrW"
      },
      "outputs": [],
      "source": [
        "model.save('bert-sentiment.model')"
      ]
    },
    {
      "cell_type": "code",
      "execution_count": 30,
      "metadata": {
        "colab": {
          "base_uri": "https://localhost:8080/",
          "height": 170,
          "referenced_widgets": [
            "3a878ecd624b4ed98b11d3c0b158a476",
            "610be155164044aeb783869bba0e4f49",
            "4f7b0e5918af4b8882e79c53de9c728e",
            "8fc62441c80248c19d42c50782b2631b",
            "53b5ec647d724b68aa6ca90c3ebb5626",
            "787ef12ec03d46049cac5dc598bc5d09",
            "511dec20fc7d4584a27859b86e0e17ef",
            "cc4e9d4d1f6848e0924b29310e66592f",
            "8065a6a3d81d4fcdbca4394bf6155bbf",
            "367cf3f93ad748808532dce65e76a47f",
            "d9c63ff672384965b03253234b0ccfbb",
            "60b04bb166c34d59b525355d415c22b4",
            "6aa8033852ba456dbf747703cefd5e4b",
            "78be5ab9eb454c06990dd85f4e982d0f",
            "ecf562f7a76249c4afbe8736d2072c42",
            "2484aaf39bd44b4ea20205f6930b9324",
            "5f64c4a1358f4caf865ab20d1abaf2d7",
            "b677386d079943748b46ad7e1201f98c",
            "7b5d43d01bbd4880ab487b077d633aa5",
            "8d869fe9b05344e2bfd793fafffae726",
            "ded2b3124ea94c68875ec823e7f0a5b3",
            "9f3ee85f0a934523b5183b4494a7dbb4"
          ]
        },
        "id": "D3uKTzsutmrW",
        "outputId": "40119f58-00c9-409b-fbe7-4c9c066c7f4f"
      },
      "outputs": [
        {
          "output_type": "display_data",
          "data": {
            "text/plain": [
              "Testing:   0%|          | 0/125 [00:00<?, ?it/s]"
            ],
            "application/vnd.jupyter.widget-view+json": {
              "version_major": 2,
              "version_minor": 0,
              "model_id": "3a878ecd624b4ed98b11d3c0b158a476"
            }
          },
          "metadata": {}
        },
        {
          "output_type": "stream",
          "name": "stdout",
          "text": [
            "\n",
            "Loss: 0.0922, Accuracy: 97.90%\n",
            "97.89999999999999\n"
          ]
        },
        {
          "output_type": "display_data",
          "data": {
            "text/plain": [
              "Predicting:   0%|          | 0/125 [00:00<?, ?it/s]"
            ],
            "application/vnd.jupyter.widget-view+json": {
              "version_major": 2,
              "version_minor": 0,
              "model_id": "60b04bb166c34d59b525355d415c22b4"
            }
          },
          "metadata": {}
        },
        {
          "output_type": "stream",
          "name": "stdout",
          "text": [
            "[0.9810901  0.96716418 0.95652174 0.98617512]\n",
            "0.97273778338838\n"
          ]
        }
      ],
      "source": [
        "# test accuracy\n",
        "bert_acc = model.score(X_test, y_test)\n",
        "print(bert_acc)\n",
        "\n",
        "from sklearn.metrics import f1_score\n",
        "\n",
        "# test f1_score\n",
        "y_pred = model.predict(X_test)\n",
        "bert_f1 = f1_score(y_test, y_pred, average = None)\n",
        "bert_f1_macro = f1_score(y_test, y_pred, average = 'macro')\n",
        "\n",
        "print(bert_f1)\n",
        "print(bert_f1_macro)"
      ]
    },
    {
      "cell_type": "code",
      "source": [
        "# print BERT model's confusion matrix\n",
        "cm = confusion_matrix(y_test, y_pred, labels = [0,1,2,3])\n",
        "print(cm)\n",
        "# print()"
      ],
      "metadata": {
        "colab": {
          "base_uri": "https://localhost:8080/"
        },
        "id": "KzRF7dT9WnqA",
        "outputId": "7ab93905-1a49-4c7c-ad4b-57bae61192ce"
      },
      "execution_count": 31,
      "outputs": [
        {
          "output_type": "stream",
          "name": "stdout",
          "text": [
            "[[441   4   2   4]\n",
            " [  4 162   1   1]\n",
            " [  0   1  55   1]\n",
            " [  3   0   0 321]]\n"
          ]
        }
      ]
    },
    {
      "cell_type": "code",
      "source": [
        "from sklearn.metrics import precision_score\n",
        "from sklearn.metrics import recall_score\n",
        "\n",
        "# print precision, recall macro avg\n",
        "bert_precision = precision_score(y_test, y_pred, average = 'macro')\n",
        "bert_recall = recall_score(y_test, y_pred, average = 'macro')\n",
        "\n",
        "print(bert_precision)\n",
        "print(bert_recall)"
      ],
      "metadata": {
        "colab": {
          "base_uri": "https://localhost:8080/"
        },
        "id": "Qi_46cvaijDr",
        "outputId": "aabd76c5-5f2a-457c-fc32-c6d13e321440"
      },
      "execution_count": 32,
      "outputs": [
        {
          "output_type": "stream",
          "name": "stdout",
          "text": [
            "0.9710905296138189\n",
            "0.9744414466814979\n"
          ]
        }
      ]
    },
    {
      "cell_type": "code",
      "source": [
        "# get_metric_scores(scores, 'accuracy', 'test', verbose=True)"
      ],
      "metadata": {
        "id": "6Q6DIdbNp0tY"
      },
      "execution_count": 33,
      "outputs": []
    },
    {
      "cell_type": "code",
      "execution_count": 34,
      "metadata": {
        "colab": {
          "base_uri": "https://localhost:8080/"
        },
        "id": "Vv5agqvRtmrW",
        "outputId": "2ea5dcdf-bf4e-43ff-be7a-18e12bdaa44c"
      },
      "outputs": [
        {
          "output_type": "stream",
          "name": "stdout",
          "text": [
            "no relationship examples that are mistakenly predicted as correlational -\n",
            "\n",
            "SLNB prior to NAT is an accurate method of axillary staging associated with a high identification rate.\n",
            "Choroidal vascular density and volume are significantly reduced in more advanced stages of diabetic retinopathy.\n",
            "For geriatrics, oncology, gastroenterology, and internal medicine, this ratio was even greater (1 out of 3â€“4).\n",
            "Weight gain and growth equaled that of healthy peers at 9 to 12 years but was suboptimal at 5 to 8 years and dramatically declines at 13 to 16 years.\n",
            "errors: 4\n",
            "\n",
            "correlational examples that are mistakenly predicted as no relationship -\n",
            "\n",
            "The majority of fetuses are not acidemic even when the FHR trace is pathological and stimulation tests are only helpful when accelerations are provoked.\n",
            "RNFL and GC-IPL complex thickness remained unaffected following LASIK intervention.\n",
            "Patients with new onset rheumatoid arthritis at our institution received similar disease modifying anti-rheumatic drug treatment irrespective of their age.\n",
            "errors: 3\n"
          ]
        }
      ],
      "source": [
        "# BERT error analysis\n",
        "print(\"no relationship examples that are mistakenly predicted as correlational -\")\n",
        "print()\n",
        "err_cnt = 0\n",
        "for i in range(0, len(y_test)):\n",
        "  if (y_test[i] == 0 and y_pred[i] == 3):\n",
        "    print(X_test[i])\n",
        "    err_cnt = err_cnt + 1\n",
        "print(\"errors:\", err_cnt)\n",
        "print()\n",
        "print(\"correlational examples that are mistakenly predicted as no relationship -\")\n",
        "print()\n",
        "err_cnt = 0\n",
        "for i in range(0, len(y_test)):\n",
        "  if (y_test[i] == 3 and y_pred[i] == 0):\n",
        "    print(X_test[i])\n",
        "    err_cnt = err_cnt + 1\n",
        "print(\"errors:\", err_cnt)"
      ]
    }
  ],
  "metadata": {
    "kernelspec": {
      "display_name": "Python 3 (ipykernel)",
      "language": "python",
      "name": "python3"
    },
    "language_info": {
      "codemirror_mode": {
        "name": "ipython",
        "version": 3
      },
      "file_extension": ".py",
      "mimetype": "text/x-python",
      "name": "python",
      "nbconvert_exporter": "python",
      "pygments_lexer": "ipython3",
      "version": "3.9.12"
    },
    "colab": {
      "provenance": [],
      "collapsed_sections": []
    },
    "accelerator": "GPU",
    "widgets": {
      "application/vnd.jupyter.widget-state+json": {
        "4176e27f7e7c4248a559f8c635e569a5": {
          "model_module": "@jupyter-widgets/controls",
          "model_name": "HBoxModel",
          "model_module_version": "1.5.0",
          "state": {
            "_dom_classes": [],
            "_model_module": "@jupyter-widgets/controls",
            "_model_module_version": "1.5.0",
            "_model_name": "HBoxModel",
            "_view_count": null,
            "_view_module": "@jupyter-widgets/controls",
            "_view_module_version": "1.5.0",
            "_view_name": "HBoxView",
            "box_style": "",
            "children": [
              "IPY_MODEL_2ce9543eb9254e56b49772d14ca5d7be",
              "IPY_MODEL_8cce603d184c41d79810a9d7d12e8d52",
              "IPY_MODEL_945ba356d83247fb851d3f70cafae92b"
            ],
            "layout": "IPY_MODEL_e349391cc96042739f13bf268a031d6b"
          }
        },
        "2ce9543eb9254e56b49772d14ca5d7be": {
          "model_module": "@jupyter-widgets/controls",
          "model_name": "HTMLModel",
          "model_module_version": "1.5.0",
          "state": {
            "_dom_classes": [],
            "_model_module": "@jupyter-widgets/controls",
            "_model_module_version": "1.5.0",
            "_model_name": "HTMLModel",
            "_view_count": null,
            "_view_module": "@jupyter-widgets/controls",
            "_view_module_version": "1.5.0",
            "_view_name": "HTMLView",
            "description": "",
            "description_tooltip": null,
            "layout": "IPY_MODEL_73011deec6714ca39d4d71c73d439baf",
            "placeholder": "​",
            "style": "IPY_MODEL_32df3eb628034b7e866a70b10ab4433d",
            "value": "Training  : 100%"
          }
        },
        "8cce603d184c41d79810a9d7d12e8d52": {
          "model_module": "@jupyter-widgets/controls",
          "model_name": "FloatProgressModel",
          "model_module_version": "1.5.0",
          "state": {
            "_dom_classes": [],
            "_model_module": "@jupyter-widgets/controls",
            "_model_module_version": "1.5.0",
            "_model_name": "FloatProgressModel",
            "_view_count": null,
            "_view_module": "@jupyter-widgets/controls",
            "_view_module_version": "1.5.0",
            "_view_name": "ProgressView",
            "bar_style": "success",
            "description": "",
            "description_tooltip": null,
            "layout": "IPY_MODEL_4cb0478b9ca9463f99ca091f33c7cfb7",
            "max": 87,
            "min": 0,
            "orientation": "horizontal",
            "style": "IPY_MODEL_64babb4c3f6049b0ab73f4fbb399cf01",
            "value": 87
          }
        },
        "945ba356d83247fb851d3f70cafae92b": {
          "model_module": "@jupyter-widgets/controls",
          "model_name": "HTMLModel",
          "model_module_version": "1.5.0",
          "state": {
            "_dom_classes": [],
            "_model_module": "@jupyter-widgets/controls",
            "_model_module_version": "1.5.0",
            "_model_name": "HTMLModel",
            "_view_count": null,
            "_view_module": "@jupyter-widgets/controls",
            "_view_module_version": "1.5.0",
            "_view_name": "HTMLView",
            "description": "",
            "description_tooltip": null,
            "layout": "IPY_MODEL_9bf68043ae464f8c9364c2d47faf5e10",
            "placeholder": "​",
            "style": "IPY_MODEL_35bc31c23fa54b22ac63a1a5cdd0c757",
            "value": " 87/87 [01:07&lt;00:00,  1.72it/s, loss=0.811]"
          }
        },
        "e349391cc96042739f13bf268a031d6b": {
          "model_module": "@jupyter-widgets/base",
          "model_name": "LayoutModel",
          "model_module_version": "1.2.0",
          "state": {
            "_model_module": "@jupyter-widgets/base",
            "_model_module_version": "1.2.0",
            "_model_name": "LayoutModel",
            "_view_count": null,
            "_view_module": "@jupyter-widgets/base",
            "_view_module_version": "1.2.0",
            "_view_name": "LayoutView",
            "align_content": null,
            "align_items": null,
            "align_self": null,
            "border": null,
            "bottom": null,
            "display": null,
            "flex": null,
            "flex_flow": null,
            "grid_area": null,
            "grid_auto_columns": null,
            "grid_auto_flow": null,
            "grid_auto_rows": null,
            "grid_column": null,
            "grid_gap": null,
            "grid_row": null,
            "grid_template_areas": null,
            "grid_template_columns": null,
            "grid_template_rows": null,
            "height": null,
            "justify_content": null,
            "justify_items": null,
            "left": null,
            "margin": null,
            "max_height": null,
            "max_width": null,
            "min_height": null,
            "min_width": null,
            "object_fit": null,
            "object_position": null,
            "order": null,
            "overflow": null,
            "overflow_x": null,
            "overflow_y": null,
            "padding": null,
            "right": null,
            "top": null,
            "visibility": null,
            "width": null
          }
        },
        "73011deec6714ca39d4d71c73d439baf": {
          "model_module": "@jupyter-widgets/base",
          "model_name": "LayoutModel",
          "model_module_version": "1.2.0",
          "state": {
            "_model_module": "@jupyter-widgets/base",
            "_model_module_version": "1.2.0",
            "_model_name": "LayoutModel",
            "_view_count": null,
            "_view_module": "@jupyter-widgets/base",
            "_view_module_version": "1.2.0",
            "_view_name": "LayoutView",
            "align_content": null,
            "align_items": null,
            "align_self": null,
            "border": null,
            "bottom": null,
            "display": null,
            "flex": null,
            "flex_flow": null,
            "grid_area": null,
            "grid_auto_columns": null,
            "grid_auto_flow": null,
            "grid_auto_rows": null,
            "grid_column": null,
            "grid_gap": null,
            "grid_row": null,
            "grid_template_areas": null,
            "grid_template_columns": null,
            "grid_template_rows": null,
            "height": null,
            "justify_content": null,
            "justify_items": null,
            "left": null,
            "margin": null,
            "max_height": null,
            "max_width": null,
            "min_height": null,
            "min_width": null,
            "object_fit": null,
            "object_position": null,
            "order": null,
            "overflow": null,
            "overflow_x": null,
            "overflow_y": null,
            "padding": null,
            "right": null,
            "top": null,
            "visibility": null,
            "width": null
          }
        },
        "32df3eb628034b7e866a70b10ab4433d": {
          "model_module": "@jupyter-widgets/controls",
          "model_name": "DescriptionStyleModel",
          "model_module_version": "1.5.0",
          "state": {
            "_model_module": "@jupyter-widgets/controls",
            "_model_module_version": "1.5.0",
            "_model_name": "DescriptionStyleModel",
            "_view_count": null,
            "_view_module": "@jupyter-widgets/base",
            "_view_module_version": "1.2.0",
            "_view_name": "StyleView",
            "description_width": ""
          }
        },
        "4cb0478b9ca9463f99ca091f33c7cfb7": {
          "model_module": "@jupyter-widgets/base",
          "model_name": "LayoutModel",
          "model_module_version": "1.2.0",
          "state": {
            "_model_module": "@jupyter-widgets/base",
            "_model_module_version": "1.2.0",
            "_model_name": "LayoutModel",
            "_view_count": null,
            "_view_module": "@jupyter-widgets/base",
            "_view_module_version": "1.2.0",
            "_view_name": "LayoutView",
            "align_content": null,
            "align_items": null,
            "align_self": null,
            "border": null,
            "bottom": null,
            "display": null,
            "flex": null,
            "flex_flow": null,
            "grid_area": null,
            "grid_auto_columns": null,
            "grid_auto_flow": null,
            "grid_auto_rows": null,
            "grid_column": null,
            "grid_gap": null,
            "grid_row": null,
            "grid_template_areas": null,
            "grid_template_columns": null,
            "grid_template_rows": null,
            "height": null,
            "justify_content": null,
            "justify_items": null,
            "left": null,
            "margin": null,
            "max_height": null,
            "max_width": null,
            "min_height": null,
            "min_width": null,
            "object_fit": null,
            "object_position": null,
            "order": null,
            "overflow": null,
            "overflow_x": null,
            "overflow_y": null,
            "padding": null,
            "right": null,
            "top": null,
            "visibility": null,
            "width": null
          }
        },
        "64babb4c3f6049b0ab73f4fbb399cf01": {
          "model_module": "@jupyter-widgets/controls",
          "model_name": "ProgressStyleModel",
          "model_module_version": "1.5.0",
          "state": {
            "_model_module": "@jupyter-widgets/controls",
            "_model_module_version": "1.5.0",
            "_model_name": "ProgressStyleModel",
            "_view_count": null,
            "_view_module": "@jupyter-widgets/base",
            "_view_module_version": "1.2.0",
            "_view_name": "StyleView",
            "bar_color": null,
            "description_width": ""
          }
        },
        "9bf68043ae464f8c9364c2d47faf5e10": {
          "model_module": "@jupyter-widgets/base",
          "model_name": "LayoutModel",
          "model_module_version": "1.2.0",
          "state": {
            "_model_module": "@jupyter-widgets/base",
            "_model_module_version": "1.2.0",
            "_model_name": "LayoutModel",
            "_view_count": null,
            "_view_module": "@jupyter-widgets/base",
            "_view_module_version": "1.2.0",
            "_view_name": "LayoutView",
            "align_content": null,
            "align_items": null,
            "align_self": null,
            "border": null,
            "bottom": null,
            "display": null,
            "flex": null,
            "flex_flow": null,
            "grid_area": null,
            "grid_auto_columns": null,
            "grid_auto_flow": null,
            "grid_auto_rows": null,
            "grid_column": null,
            "grid_gap": null,
            "grid_row": null,
            "grid_template_areas": null,
            "grid_template_columns": null,
            "grid_template_rows": null,
            "height": null,
            "justify_content": null,
            "justify_items": null,
            "left": null,
            "margin": null,
            "max_height": null,
            "max_width": null,
            "min_height": null,
            "min_width": null,
            "object_fit": null,
            "object_position": null,
            "order": null,
            "overflow": null,
            "overflow_x": null,
            "overflow_y": null,
            "padding": null,
            "right": null,
            "top": null,
            "visibility": null,
            "width": null
          }
        },
        "35bc31c23fa54b22ac63a1a5cdd0c757": {
          "model_module": "@jupyter-widgets/controls",
          "model_name": "DescriptionStyleModel",
          "model_module_version": "1.5.0",
          "state": {
            "_model_module": "@jupyter-widgets/controls",
            "_model_module_version": "1.5.0",
            "_model_name": "DescriptionStyleModel",
            "_view_count": null,
            "_view_module": "@jupyter-widgets/base",
            "_view_module_version": "1.2.0",
            "_view_name": "StyleView",
            "description_width": ""
          }
        },
        "1fb7d761c2ac4c01ac590a7771a82cc6": {
          "model_module": "@jupyter-widgets/controls",
          "model_name": "HBoxModel",
          "model_module_version": "1.5.0",
          "state": {
            "_dom_classes": [],
            "_model_module": "@jupyter-widgets/controls",
            "_model_module_version": "1.5.0",
            "_model_name": "HBoxModel",
            "_view_count": null,
            "_view_module": "@jupyter-widgets/controls",
            "_view_module_version": "1.5.0",
            "_view_name": "HBoxView",
            "box_style": "",
            "children": [
              "IPY_MODEL_9cfdf3362fb24d249c824a1197b989c8",
              "IPY_MODEL_0387b726aa524438891a9f4011dbec8b",
              "IPY_MODEL_65e9469041be458b97a3bf78c67e5da0"
            ],
            "layout": "IPY_MODEL_0d842f129b194c3fb95307b1c5b02833"
          }
        },
        "9cfdf3362fb24d249c824a1197b989c8": {
          "model_module": "@jupyter-widgets/controls",
          "model_name": "HTMLModel",
          "model_module_version": "1.5.0",
          "state": {
            "_dom_classes": [],
            "_model_module": "@jupyter-widgets/controls",
            "_model_module_version": "1.5.0",
            "_model_name": "HTMLModel",
            "_view_count": null,
            "_view_module": "@jupyter-widgets/controls",
            "_view_module_version": "1.5.0",
            "_view_name": "HTMLView",
            "description": "",
            "description_tooltip": null,
            "layout": "IPY_MODEL_40e5c6fd68334c2f8ca54fec064f043b",
            "placeholder": "​",
            "style": "IPY_MODEL_2696854cade0488091d28f7d67978e31",
            "value": "Validating: 100%"
          }
        },
        "0387b726aa524438891a9f4011dbec8b": {
          "model_module": "@jupyter-widgets/controls",
          "model_name": "FloatProgressModel",
          "model_module_version": "1.5.0",
          "state": {
            "_dom_classes": [],
            "_model_module": "@jupyter-widgets/controls",
            "_model_module_version": "1.5.0",
            "_model_name": "FloatProgressModel",
            "_view_count": null,
            "_view_module": "@jupyter-widgets/controls",
            "_view_module_version": "1.5.0",
            "_view_name": "ProgressView",
            "bar_style": "success",
            "description": "",
            "description_tooltip": null,
            "layout": "IPY_MODEL_f9879e1def404fdea1df20b1a9dc0d1d",
            "max": 39,
            "min": 0,
            "orientation": "horizontal",
            "style": "IPY_MODEL_f17bfa40e1dc4a98a01f6b39bdc41491",
            "value": 39
          }
        },
        "65e9469041be458b97a3bf78c67e5da0": {
          "model_module": "@jupyter-widgets/controls",
          "model_name": "HTMLModel",
          "model_module_version": "1.5.0",
          "state": {
            "_dom_classes": [],
            "_model_module": "@jupyter-widgets/controls",
            "_model_module_version": "1.5.0",
            "_model_name": "HTMLModel",
            "_view_count": null,
            "_view_module": "@jupyter-widgets/controls",
            "_view_module_version": "1.5.0",
            "_view_name": "HTMLView",
            "description": "",
            "description_tooltip": null,
            "layout": "IPY_MODEL_7dfd04134ea547bc8f102641e37eedf9",
            "placeholder": "​",
            "style": "IPY_MODEL_80db461d8a814914bd581f4a48bf834e",
            "value": " 39/39 [00:02&lt;00:00, 14.52it/s]"
          }
        },
        "0d842f129b194c3fb95307b1c5b02833": {
          "model_module": "@jupyter-widgets/base",
          "model_name": "LayoutModel",
          "model_module_version": "1.2.0",
          "state": {
            "_model_module": "@jupyter-widgets/base",
            "_model_module_version": "1.2.0",
            "_model_name": "LayoutModel",
            "_view_count": null,
            "_view_module": "@jupyter-widgets/base",
            "_view_module_version": "1.2.0",
            "_view_name": "LayoutView",
            "align_content": null,
            "align_items": null,
            "align_self": null,
            "border": null,
            "bottom": null,
            "display": null,
            "flex": null,
            "flex_flow": null,
            "grid_area": null,
            "grid_auto_columns": null,
            "grid_auto_flow": null,
            "grid_auto_rows": null,
            "grid_column": null,
            "grid_gap": null,
            "grid_row": null,
            "grid_template_areas": null,
            "grid_template_columns": null,
            "grid_template_rows": null,
            "height": null,
            "justify_content": null,
            "justify_items": null,
            "left": null,
            "margin": null,
            "max_height": null,
            "max_width": null,
            "min_height": null,
            "min_width": null,
            "object_fit": null,
            "object_position": null,
            "order": null,
            "overflow": null,
            "overflow_x": null,
            "overflow_y": null,
            "padding": null,
            "right": null,
            "top": null,
            "visibility": null,
            "width": null
          }
        },
        "40e5c6fd68334c2f8ca54fec064f043b": {
          "model_module": "@jupyter-widgets/base",
          "model_name": "LayoutModel",
          "model_module_version": "1.2.0",
          "state": {
            "_model_module": "@jupyter-widgets/base",
            "_model_module_version": "1.2.0",
            "_model_name": "LayoutModel",
            "_view_count": null,
            "_view_module": "@jupyter-widgets/base",
            "_view_module_version": "1.2.0",
            "_view_name": "LayoutView",
            "align_content": null,
            "align_items": null,
            "align_self": null,
            "border": null,
            "bottom": null,
            "display": null,
            "flex": null,
            "flex_flow": null,
            "grid_area": null,
            "grid_auto_columns": null,
            "grid_auto_flow": null,
            "grid_auto_rows": null,
            "grid_column": null,
            "grid_gap": null,
            "grid_row": null,
            "grid_template_areas": null,
            "grid_template_columns": null,
            "grid_template_rows": null,
            "height": null,
            "justify_content": null,
            "justify_items": null,
            "left": null,
            "margin": null,
            "max_height": null,
            "max_width": null,
            "min_height": null,
            "min_width": null,
            "object_fit": null,
            "object_position": null,
            "order": null,
            "overflow": null,
            "overflow_x": null,
            "overflow_y": null,
            "padding": null,
            "right": null,
            "top": null,
            "visibility": null,
            "width": null
          }
        },
        "2696854cade0488091d28f7d67978e31": {
          "model_module": "@jupyter-widgets/controls",
          "model_name": "DescriptionStyleModel",
          "model_module_version": "1.5.0",
          "state": {
            "_model_module": "@jupyter-widgets/controls",
            "_model_module_version": "1.5.0",
            "_model_name": "DescriptionStyleModel",
            "_view_count": null,
            "_view_module": "@jupyter-widgets/base",
            "_view_module_version": "1.2.0",
            "_view_name": "StyleView",
            "description_width": ""
          }
        },
        "f9879e1def404fdea1df20b1a9dc0d1d": {
          "model_module": "@jupyter-widgets/base",
          "model_name": "LayoutModel",
          "model_module_version": "1.2.0",
          "state": {
            "_model_module": "@jupyter-widgets/base",
            "_model_module_version": "1.2.0",
            "_model_name": "LayoutModel",
            "_view_count": null,
            "_view_module": "@jupyter-widgets/base",
            "_view_module_version": "1.2.0",
            "_view_name": "LayoutView",
            "align_content": null,
            "align_items": null,
            "align_self": null,
            "border": null,
            "bottom": null,
            "display": null,
            "flex": null,
            "flex_flow": null,
            "grid_area": null,
            "grid_auto_columns": null,
            "grid_auto_flow": null,
            "grid_auto_rows": null,
            "grid_column": null,
            "grid_gap": null,
            "grid_row": null,
            "grid_template_areas": null,
            "grid_template_columns": null,
            "grid_template_rows": null,
            "height": null,
            "justify_content": null,
            "justify_items": null,
            "left": null,
            "margin": null,
            "max_height": null,
            "max_width": null,
            "min_height": null,
            "min_width": null,
            "object_fit": null,
            "object_position": null,
            "order": null,
            "overflow": null,
            "overflow_x": null,
            "overflow_y": null,
            "padding": null,
            "right": null,
            "top": null,
            "visibility": null,
            "width": null
          }
        },
        "f17bfa40e1dc4a98a01f6b39bdc41491": {
          "model_module": "@jupyter-widgets/controls",
          "model_name": "ProgressStyleModel",
          "model_module_version": "1.5.0",
          "state": {
            "_model_module": "@jupyter-widgets/controls",
            "_model_module_version": "1.5.0",
            "_model_name": "ProgressStyleModel",
            "_view_count": null,
            "_view_module": "@jupyter-widgets/base",
            "_view_module_version": "1.2.0",
            "_view_name": "StyleView",
            "bar_color": null,
            "description_width": ""
          }
        },
        "7dfd04134ea547bc8f102641e37eedf9": {
          "model_module": "@jupyter-widgets/base",
          "model_name": "LayoutModel",
          "model_module_version": "1.2.0",
          "state": {
            "_model_module": "@jupyter-widgets/base",
            "_model_module_version": "1.2.0",
            "_model_name": "LayoutModel",
            "_view_count": null,
            "_view_module": "@jupyter-widgets/base",
            "_view_module_version": "1.2.0",
            "_view_name": "LayoutView",
            "align_content": null,
            "align_items": null,
            "align_self": null,
            "border": null,
            "bottom": null,
            "display": null,
            "flex": null,
            "flex_flow": null,
            "grid_area": null,
            "grid_auto_columns": null,
            "grid_auto_flow": null,
            "grid_auto_rows": null,
            "grid_column": null,
            "grid_gap": null,
            "grid_row": null,
            "grid_template_areas": null,
            "grid_template_columns": null,
            "grid_template_rows": null,
            "height": null,
            "justify_content": null,
            "justify_items": null,
            "left": null,
            "margin": null,
            "max_height": null,
            "max_width": null,
            "min_height": null,
            "min_width": null,
            "object_fit": null,
            "object_position": null,
            "order": null,
            "overflow": null,
            "overflow_x": null,
            "overflow_y": null,
            "padding": null,
            "right": null,
            "top": null,
            "visibility": null,
            "width": null
          }
        },
        "80db461d8a814914bd581f4a48bf834e": {
          "model_module": "@jupyter-widgets/controls",
          "model_name": "DescriptionStyleModel",
          "model_module_version": "1.5.0",
          "state": {
            "_model_module": "@jupyter-widgets/controls",
            "_model_module_version": "1.5.0",
            "_model_name": "DescriptionStyleModel",
            "_view_count": null,
            "_view_module": "@jupyter-widgets/base",
            "_view_module_version": "1.2.0",
            "_view_name": "StyleView",
            "description_width": ""
          }
        },
        "a838002c227f477883eb04b7142c0c05": {
          "model_module": "@jupyter-widgets/controls",
          "model_name": "HBoxModel",
          "model_module_version": "1.5.0",
          "state": {
            "_dom_classes": [],
            "_model_module": "@jupyter-widgets/controls",
            "_model_module_version": "1.5.0",
            "_model_name": "HBoxModel",
            "_view_count": null,
            "_view_module": "@jupyter-widgets/controls",
            "_view_module_version": "1.5.0",
            "_view_name": "HBoxView",
            "box_style": "",
            "children": [
              "IPY_MODEL_b8734c4b3e0047d996acc8815656cb06",
              "IPY_MODEL_8c409f6aad6a42c69871653d2218e818",
              "IPY_MODEL_0e993f5e631d482b86d61e148a8cb1be"
            ],
            "layout": "IPY_MODEL_4272ff6063524f89a3fefa0e6fdbb990"
          }
        },
        "b8734c4b3e0047d996acc8815656cb06": {
          "model_module": "@jupyter-widgets/controls",
          "model_name": "HTMLModel",
          "model_module_version": "1.5.0",
          "state": {
            "_dom_classes": [],
            "_model_module": "@jupyter-widgets/controls",
            "_model_module_version": "1.5.0",
            "_model_name": "HTMLModel",
            "_view_count": null,
            "_view_module": "@jupyter-widgets/controls",
            "_view_module_version": "1.5.0",
            "_view_name": "HTMLView",
            "description": "",
            "description_tooltip": null,
            "layout": "IPY_MODEL_769b5e61a05142a482bfa4b870ffd7a8",
            "placeholder": "​",
            "style": "IPY_MODEL_de0173f493dc4ecf919a802b6877fe9b",
            "value": "Training  : 100%"
          }
        },
        "8c409f6aad6a42c69871653d2218e818": {
          "model_module": "@jupyter-widgets/controls",
          "model_name": "FloatProgressModel",
          "model_module_version": "1.5.0",
          "state": {
            "_dom_classes": [],
            "_model_module": "@jupyter-widgets/controls",
            "_model_module_version": "1.5.0",
            "_model_name": "FloatProgressModel",
            "_view_count": null,
            "_view_module": "@jupyter-widgets/controls",
            "_view_module_version": "1.5.0",
            "_view_name": "ProgressView",
            "bar_style": "success",
            "description": "",
            "description_tooltip": null,
            "layout": "IPY_MODEL_3380bbc75da64a6797609eeee945ad0c",
            "max": 87,
            "min": 0,
            "orientation": "horizontal",
            "style": "IPY_MODEL_8e4652c528874a3c8afa46e83ac81bf6",
            "value": 87
          }
        },
        "0e993f5e631d482b86d61e148a8cb1be": {
          "model_module": "@jupyter-widgets/controls",
          "model_name": "HTMLModel",
          "model_module_version": "1.5.0",
          "state": {
            "_dom_classes": [],
            "_model_module": "@jupyter-widgets/controls",
            "_model_module_version": "1.5.0",
            "_model_name": "HTMLModel",
            "_view_count": null,
            "_view_module": "@jupyter-widgets/controls",
            "_view_module_version": "1.5.0",
            "_view_name": "HTMLView",
            "description": "",
            "description_tooltip": null,
            "layout": "IPY_MODEL_758a1f1746654b93b4e60efe0fc5cb46",
            "placeholder": "​",
            "style": "IPY_MODEL_4a5552e18f954df8a032709b1dea69b5",
            "value": " 87/87 [01:07&lt;00:00,  1.66it/s, loss=0.261]"
          }
        },
        "4272ff6063524f89a3fefa0e6fdbb990": {
          "model_module": "@jupyter-widgets/base",
          "model_name": "LayoutModel",
          "model_module_version": "1.2.0",
          "state": {
            "_model_module": "@jupyter-widgets/base",
            "_model_module_version": "1.2.0",
            "_model_name": "LayoutModel",
            "_view_count": null,
            "_view_module": "@jupyter-widgets/base",
            "_view_module_version": "1.2.0",
            "_view_name": "LayoutView",
            "align_content": null,
            "align_items": null,
            "align_self": null,
            "border": null,
            "bottom": null,
            "display": null,
            "flex": null,
            "flex_flow": null,
            "grid_area": null,
            "grid_auto_columns": null,
            "grid_auto_flow": null,
            "grid_auto_rows": null,
            "grid_column": null,
            "grid_gap": null,
            "grid_row": null,
            "grid_template_areas": null,
            "grid_template_columns": null,
            "grid_template_rows": null,
            "height": null,
            "justify_content": null,
            "justify_items": null,
            "left": null,
            "margin": null,
            "max_height": null,
            "max_width": null,
            "min_height": null,
            "min_width": null,
            "object_fit": null,
            "object_position": null,
            "order": null,
            "overflow": null,
            "overflow_x": null,
            "overflow_y": null,
            "padding": null,
            "right": null,
            "top": null,
            "visibility": null,
            "width": null
          }
        },
        "769b5e61a05142a482bfa4b870ffd7a8": {
          "model_module": "@jupyter-widgets/base",
          "model_name": "LayoutModel",
          "model_module_version": "1.2.0",
          "state": {
            "_model_module": "@jupyter-widgets/base",
            "_model_module_version": "1.2.0",
            "_model_name": "LayoutModel",
            "_view_count": null,
            "_view_module": "@jupyter-widgets/base",
            "_view_module_version": "1.2.0",
            "_view_name": "LayoutView",
            "align_content": null,
            "align_items": null,
            "align_self": null,
            "border": null,
            "bottom": null,
            "display": null,
            "flex": null,
            "flex_flow": null,
            "grid_area": null,
            "grid_auto_columns": null,
            "grid_auto_flow": null,
            "grid_auto_rows": null,
            "grid_column": null,
            "grid_gap": null,
            "grid_row": null,
            "grid_template_areas": null,
            "grid_template_columns": null,
            "grid_template_rows": null,
            "height": null,
            "justify_content": null,
            "justify_items": null,
            "left": null,
            "margin": null,
            "max_height": null,
            "max_width": null,
            "min_height": null,
            "min_width": null,
            "object_fit": null,
            "object_position": null,
            "order": null,
            "overflow": null,
            "overflow_x": null,
            "overflow_y": null,
            "padding": null,
            "right": null,
            "top": null,
            "visibility": null,
            "width": null
          }
        },
        "de0173f493dc4ecf919a802b6877fe9b": {
          "model_module": "@jupyter-widgets/controls",
          "model_name": "DescriptionStyleModel",
          "model_module_version": "1.5.0",
          "state": {
            "_model_module": "@jupyter-widgets/controls",
            "_model_module_version": "1.5.0",
            "_model_name": "DescriptionStyleModel",
            "_view_count": null,
            "_view_module": "@jupyter-widgets/base",
            "_view_module_version": "1.2.0",
            "_view_name": "StyleView",
            "description_width": ""
          }
        },
        "3380bbc75da64a6797609eeee945ad0c": {
          "model_module": "@jupyter-widgets/base",
          "model_name": "LayoutModel",
          "model_module_version": "1.2.0",
          "state": {
            "_model_module": "@jupyter-widgets/base",
            "_model_module_version": "1.2.0",
            "_model_name": "LayoutModel",
            "_view_count": null,
            "_view_module": "@jupyter-widgets/base",
            "_view_module_version": "1.2.0",
            "_view_name": "LayoutView",
            "align_content": null,
            "align_items": null,
            "align_self": null,
            "border": null,
            "bottom": null,
            "display": null,
            "flex": null,
            "flex_flow": null,
            "grid_area": null,
            "grid_auto_columns": null,
            "grid_auto_flow": null,
            "grid_auto_rows": null,
            "grid_column": null,
            "grid_gap": null,
            "grid_row": null,
            "grid_template_areas": null,
            "grid_template_columns": null,
            "grid_template_rows": null,
            "height": null,
            "justify_content": null,
            "justify_items": null,
            "left": null,
            "margin": null,
            "max_height": null,
            "max_width": null,
            "min_height": null,
            "min_width": null,
            "object_fit": null,
            "object_position": null,
            "order": null,
            "overflow": null,
            "overflow_x": null,
            "overflow_y": null,
            "padding": null,
            "right": null,
            "top": null,
            "visibility": null,
            "width": null
          }
        },
        "8e4652c528874a3c8afa46e83ac81bf6": {
          "model_module": "@jupyter-widgets/controls",
          "model_name": "ProgressStyleModel",
          "model_module_version": "1.5.0",
          "state": {
            "_model_module": "@jupyter-widgets/controls",
            "_model_module_version": "1.5.0",
            "_model_name": "ProgressStyleModel",
            "_view_count": null,
            "_view_module": "@jupyter-widgets/base",
            "_view_module_version": "1.2.0",
            "_view_name": "StyleView",
            "bar_color": null,
            "description_width": ""
          }
        },
        "758a1f1746654b93b4e60efe0fc5cb46": {
          "model_module": "@jupyter-widgets/base",
          "model_name": "LayoutModel",
          "model_module_version": "1.2.0",
          "state": {
            "_model_module": "@jupyter-widgets/base",
            "_model_module_version": "1.2.0",
            "_model_name": "LayoutModel",
            "_view_count": null,
            "_view_module": "@jupyter-widgets/base",
            "_view_module_version": "1.2.0",
            "_view_name": "LayoutView",
            "align_content": null,
            "align_items": null,
            "align_self": null,
            "border": null,
            "bottom": null,
            "display": null,
            "flex": null,
            "flex_flow": null,
            "grid_area": null,
            "grid_auto_columns": null,
            "grid_auto_flow": null,
            "grid_auto_rows": null,
            "grid_column": null,
            "grid_gap": null,
            "grid_row": null,
            "grid_template_areas": null,
            "grid_template_columns": null,
            "grid_template_rows": null,
            "height": null,
            "justify_content": null,
            "justify_items": null,
            "left": null,
            "margin": null,
            "max_height": null,
            "max_width": null,
            "min_height": null,
            "min_width": null,
            "object_fit": null,
            "object_position": null,
            "order": null,
            "overflow": null,
            "overflow_x": null,
            "overflow_y": null,
            "padding": null,
            "right": null,
            "top": null,
            "visibility": null,
            "width": null
          }
        },
        "4a5552e18f954df8a032709b1dea69b5": {
          "model_module": "@jupyter-widgets/controls",
          "model_name": "DescriptionStyleModel",
          "model_module_version": "1.5.0",
          "state": {
            "_model_module": "@jupyter-widgets/controls",
            "_model_module_version": "1.5.0",
            "_model_name": "DescriptionStyleModel",
            "_view_count": null,
            "_view_module": "@jupyter-widgets/base",
            "_view_module_version": "1.2.0",
            "_view_name": "StyleView",
            "description_width": ""
          }
        },
        "ebfd97e80bec464dba10502af754d960": {
          "model_module": "@jupyter-widgets/controls",
          "model_name": "HBoxModel",
          "model_module_version": "1.5.0",
          "state": {
            "_dom_classes": [],
            "_model_module": "@jupyter-widgets/controls",
            "_model_module_version": "1.5.0",
            "_model_name": "HBoxModel",
            "_view_count": null,
            "_view_module": "@jupyter-widgets/controls",
            "_view_module_version": "1.5.0",
            "_view_name": "HBoxView",
            "box_style": "",
            "children": [
              "IPY_MODEL_d517eb5087944d45b4e2e8b2bc1356cf",
              "IPY_MODEL_f52257832b5940579467a3ee0157ff98",
              "IPY_MODEL_1dd775c518074e7daed254cdefd9d2f4"
            ],
            "layout": "IPY_MODEL_98093069566046f7b27822196df471cf"
          }
        },
        "d517eb5087944d45b4e2e8b2bc1356cf": {
          "model_module": "@jupyter-widgets/controls",
          "model_name": "HTMLModel",
          "model_module_version": "1.5.0",
          "state": {
            "_dom_classes": [],
            "_model_module": "@jupyter-widgets/controls",
            "_model_module_version": "1.5.0",
            "_model_name": "HTMLModel",
            "_view_count": null,
            "_view_module": "@jupyter-widgets/controls",
            "_view_module_version": "1.5.0",
            "_view_name": "HTMLView",
            "description": "",
            "description_tooltip": null,
            "layout": "IPY_MODEL_a839ba96fe9e42a783749b84ca4b0eed",
            "placeholder": "​",
            "style": "IPY_MODEL_03c313124d2c4fdeac9e400c371cea87",
            "value": "Validating: 100%"
          }
        },
        "f52257832b5940579467a3ee0157ff98": {
          "model_module": "@jupyter-widgets/controls",
          "model_name": "FloatProgressModel",
          "model_module_version": "1.5.0",
          "state": {
            "_dom_classes": [],
            "_model_module": "@jupyter-widgets/controls",
            "_model_module_version": "1.5.0",
            "_model_name": "FloatProgressModel",
            "_view_count": null,
            "_view_module": "@jupyter-widgets/controls",
            "_view_module_version": "1.5.0",
            "_view_name": "ProgressView",
            "bar_style": "success",
            "description": "",
            "description_tooltip": null,
            "layout": "IPY_MODEL_c9a562a2cf0f49c29944399ea9dbd1f6",
            "max": 39,
            "min": 0,
            "orientation": "horizontal",
            "style": "IPY_MODEL_5157fcf6129449abbe01224c4c5386d1",
            "value": 39
          }
        },
        "1dd775c518074e7daed254cdefd9d2f4": {
          "model_module": "@jupyter-widgets/controls",
          "model_name": "HTMLModel",
          "model_module_version": "1.5.0",
          "state": {
            "_dom_classes": [],
            "_model_module": "@jupyter-widgets/controls",
            "_model_module_version": "1.5.0",
            "_model_name": "HTMLModel",
            "_view_count": null,
            "_view_module": "@jupyter-widgets/controls",
            "_view_module_version": "1.5.0",
            "_view_name": "HTMLView",
            "description": "",
            "description_tooltip": null,
            "layout": "IPY_MODEL_1ce1dc2cf80f4c6b89660510fca64fd4",
            "placeholder": "​",
            "style": "IPY_MODEL_122a475b35a440399da2093302d5c0ad",
            "value": " 39/39 [00:03&lt;00:00, 14.06it/s]"
          }
        },
        "98093069566046f7b27822196df471cf": {
          "model_module": "@jupyter-widgets/base",
          "model_name": "LayoutModel",
          "model_module_version": "1.2.0",
          "state": {
            "_model_module": "@jupyter-widgets/base",
            "_model_module_version": "1.2.0",
            "_model_name": "LayoutModel",
            "_view_count": null,
            "_view_module": "@jupyter-widgets/base",
            "_view_module_version": "1.2.0",
            "_view_name": "LayoutView",
            "align_content": null,
            "align_items": null,
            "align_self": null,
            "border": null,
            "bottom": null,
            "display": null,
            "flex": null,
            "flex_flow": null,
            "grid_area": null,
            "grid_auto_columns": null,
            "grid_auto_flow": null,
            "grid_auto_rows": null,
            "grid_column": null,
            "grid_gap": null,
            "grid_row": null,
            "grid_template_areas": null,
            "grid_template_columns": null,
            "grid_template_rows": null,
            "height": null,
            "justify_content": null,
            "justify_items": null,
            "left": null,
            "margin": null,
            "max_height": null,
            "max_width": null,
            "min_height": null,
            "min_width": null,
            "object_fit": null,
            "object_position": null,
            "order": null,
            "overflow": null,
            "overflow_x": null,
            "overflow_y": null,
            "padding": null,
            "right": null,
            "top": null,
            "visibility": null,
            "width": null
          }
        },
        "a839ba96fe9e42a783749b84ca4b0eed": {
          "model_module": "@jupyter-widgets/base",
          "model_name": "LayoutModel",
          "model_module_version": "1.2.0",
          "state": {
            "_model_module": "@jupyter-widgets/base",
            "_model_module_version": "1.2.0",
            "_model_name": "LayoutModel",
            "_view_count": null,
            "_view_module": "@jupyter-widgets/base",
            "_view_module_version": "1.2.0",
            "_view_name": "LayoutView",
            "align_content": null,
            "align_items": null,
            "align_self": null,
            "border": null,
            "bottom": null,
            "display": null,
            "flex": null,
            "flex_flow": null,
            "grid_area": null,
            "grid_auto_columns": null,
            "grid_auto_flow": null,
            "grid_auto_rows": null,
            "grid_column": null,
            "grid_gap": null,
            "grid_row": null,
            "grid_template_areas": null,
            "grid_template_columns": null,
            "grid_template_rows": null,
            "height": null,
            "justify_content": null,
            "justify_items": null,
            "left": null,
            "margin": null,
            "max_height": null,
            "max_width": null,
            "min_height": null,
            "min_width": null,
            "object_fit": null,
            "object_position": null,
            "order": null,
            "overflow": null,
            "overflow_x": null,
            "overflow_y": null,
            "padding": null,
            "right": null,
            "top": null,
            "visibility": null,
            "width": null
          }
        },
        "03c313124d2c4fdeac9e400c371cea87": {
          "model_module": "@jupyter-widgets/controls",
          "model_name": "DescriptionStyleModel",
          "model_module_version": "1.5.0",
          "state": {
            "_model_module": "@jupyter-widgets/controls",
            "_model_module_version": "1.5.0",
            "_model_name": "DescriptionStyleModel",
            "_view_count": null,
            "_view_module": "@jupyter-widgets/base",
            "_view_module_version": "1.2.0",
            "_view_name": "StyleView",
            "description_width": ""
          }
        },
        "c9a562a2cf0f49c29944399ea9dbd1f6": {
          "model_module": "@jupyter-widgets/base",
          "model_name": "LayoutModel",
          "model_module_version": "1.2.0",
          "state": {
            "_model_module": "@jupyter-widgets/base",
            "_model_module_version": "1.2.0",
            "_model_name": "LayoutModel",
            "_view_count": null,
            "_view_module": "@jupyter-widgets/base",
            "_view_module_version": "1.2.0",
            "_view_name": "LayoutView",
            "align_content": null,
            "align_items": null,
            "align_self": null,
            "border": null,
            "bottom": null,
            "display": null,
            "flex": null,
            "flex_flow": null,
            "grid_area": null,
            "grid_auto_columns": null,
            "grid_auto_flow": null,
            "grid_auto_rows": null,
            "grid_column": null,
            "grid_gap": null,
            "grid_row": null,
            "grid_template_areas": null,
            "grid_template_columns": null,
            "grid_template_rows": null,
            "height": null,
            "justify_content": null,
            "justify_items": null,
            "left": null,
            "margin": null,
            "max_height": null,
            "max_width": null,
            "min_height": null,
            "min_width": null,
            "object_fit": null,
            "object_position": null,
            "order": null,
            "overflow": null,
            "overflow_x": null,
            "overflow_y": null,
            "padding": null,
            "right": null,
            "top": null,
            "visibility": null,
            "width": null
          }
        },
        "5157fcf6129449abbe01224c4c5386d1": {
          "model_module": "@jupyter-widgets/controls",
          "model_name": "ProgressStyleModel",
          "model_module_version": "1.5.0",
          "state": {
            "_model_module": "@jupyter-widgets/controls",
            "_model_module_version": "1.5.0",
            "_model_name": "ProgressStyleModel",
            "_view_count": null,
            "_view_module": "@jupyter-widgets/base",
            "_view_module_version": "1.2.0",
            "_view_name": "StyleView",
            "bar_color": null,
            "description_width": ""
          }
        },
        "1ce1dc2cf80f4c6b89660510fca64fd4": {
          "model_module": "@jupyter-widgets/base",
          "model_name": "LayoutModel",
          "model_module_version": "1.2.0",
          "state": {
            "_model_module": "@jupyter-widgets/base",
            "_model_module_version": "1.2.0",
            "_model_name": "LayoutModel",
            "_view_count": null,
            "_view_module": "@jupyter-widgets/base",
            "_view_module_version": "1.2.0",
            "_view_name": "LayoutView",
            "align_content": null,
            "align_items": null,
            "align_self": null,
            "border": null,
            "bottom": null,
            "display": null,
            "flex": null,
            "flex_flow": null,
            "grid_area": null,
            "grid_auto_columns": null,
            "grid_auto_flow": null,
            "grid_auto_rows": null,
            "grid_column": null,
            "grid_gap": null,
            "grid_row": null,
            "grid_template_areas": null,
            "grid_template_columns": null,
            "grid_template_rows": null,
            "height": null,
            "justify_content": null,
            "justify_items": null,
            "left": null,
            "margin": null,
            "max_height": null,
            "max_width": null,
            "min_height": null,
            "min_width": null,
            "object_fit": null,
            "object_position": null,
            "order": null,
            "overflow": null,
            "overflow_x": null,
            "overflow_y": null,
            "padding": null,
            "right": null,
            "top": null,
            "visibility": null,
            "width": null
          }
        },
        "122a475b35a440399da2093302d5c0ad": {
          "model_module": "@jupyter-widgets/controls",
          "model_name": "DescriptionStyleModel",
          "model_module_version": "1.5.0",
          "state": {
            "_model_module": "@jupyter-widgets/controls",
            "_model_module_version": "1.5.0",
            "_model_name": "DescriptionStyleModel",
            "_view_count": null,
            "_view_module": "@jupyter-widgets/base",
            "_view_module_version": "1.2.0",
            "_view_name": "StyleView",
            "description_width": ""
          }
        },
        "72c632d924434f0192af987a8cef326a": {
          "model_module": "@jupyter-widgets/controls",
          "model_name": "HBoxModel",
          "model_module_version": "1.5.0",
          "state": {
            "_dom_classes": [],
            "_model_module": "@jupyter-widgets/controls",
            "_model_module_version": "1.5.0",
            "_model_name": "HBoxModel",
            "_view_count": null,
            "_view_module": "@jupyter-widgets/controls",
            "_view_module_version": "1.5.0",
            "_view_name": "HBoxView",
            "box_style": "",
            "children": [
              "IPY_MODEL_d39b0ae78c524242835e136e3492f7f4",
              "IPY_MODEL_00bec59d21104297b997eb1a532fe63a",
              "IPY_MODEL_28a9dd9027d74cec8ea8c7705736c19b"
            ],
            "layout": "IPY_MODEL_e531ea05ce5e453f8009468aa70a3607"
          }
        },
        "d39b0ae78c524242835e136e3492f7f4": {
          "model_module": "@jupyter-widgets/controls",
          "model_name": "HTMLModel",
          "model_module_version": "1.5.0",
          "state": {
            "_dom_classes": [],
            "_model_module": "@jupyter-widgets/controls",
            "_model_module_version": "1.5.0",
            "_model_name": "HTMLModel",
            "_view_count": null,
            "_view_module": "@jupyter-widgets/controls",
            "_view_module_version": "1.5.0",
            "_view_name": "HTMLView",
            "description": "",
            "description_tooltip": null,
            "layout": "IPY_MODEL_c9895f38045741babf0a151602dd036b",
            "placeholder": "​",
            "style": "IPY_MODEL_9d79e430b8244735846c78714dc682cb",
            "value": "Training  : 100%"
          }
        },
        "00bec59d21104297b997eb1a532fe63a": {
          "model_module": "@jupyter-widgets/controls",
          "model_name": "FloatProgressModel",
          "model_module_version": "1.5.0",
          "state": {
            "_dom_classes": [],
            "_model_module": "@jupyter-widgets/controls",
            "_model_module_version": "1.5.0",
            "_model_name": "FloatProgressModel",
            "_view_count": null,
            "_view_module": "@jupyter-widgets/controls",
            "_view_module_version": "1.5.0",
            "_view_name": "ProgressView",
            "bar_style": "success",
            "description": "",
            "description_tooltip": null,
            "layout": "IPY_MODEL_4dc539d73e6d4f369e9797097adf9084",
            "max": 87,
            "min": 0,
            "orientation": "horizontal",
            "style": "IPY_MODEL_0763943199d9427dba65b56ca68aab5a",
            "value": 87
          }
        },
        "28a9dd9027d74cec8ea8c7705736c19b": {
          "model_module": "@jupyter-widgets/controls",
          "model_name": "HTMLModel",
          "model_module_version": "1.5.0",
          "state": {
            "_dom_classes": [],
            "_model_module": "@jupyter-widgets/controls",
            "_model_module_version": "1.5.0",
            "_model_name": "HTMLModel",
            "_view_count": null,
            "_view_module": "@jupyter-widgets/controls",
            "_view_module_version": "1.5.0",
            "_view_name": "HTMLView",
            "description": "",
            "description_tooltip": null,
            "layout": "IPY_MODEL_933e8a339b584107b7b25db7e4a67ec4",
            "placeholder": "​",
            "style": "IPY_MODEL_f8ca3487bb3e44058ae3b5d75c71a365",
            "value": " 87/87 [01:09&lt;00:00,  1.64it/s, loss=0.103]"
          }
        },
        "e531ea05ce5e453f8009468aa70a3607": {
          "model_module": "@jupyter-widgets/base",
          "model_name": "LayoutModel",
          "model_module_version": "1.2.0",
          "state": {
            "_model_module": "@jupyter-widgets/base",
            "_model_module_version": "1.2.0",
            "_model_name": "LayoutModel",
            "_view_count": null,
            "_view_module": "@jupyter-widgets/base",
            "_view_module_version": "1.2.0",
            "_view_name": "LayoutView",
            "align_content": null,
            "align_items": null,
            "align_self": null,
            "border": null,
            "bottom": null,
            "display": null,
            "flex": null,
            "flex_flow": null,
            "grid_area": null,
            "grid_auto_columns": null,
            "grid_auto_flow": null,
            "grid_auto_rows": null,
            "grid_column": null,
            "grid_gap": null,
            "grid_row": null,
            "grid_template_areas": null,
            "grid_template_columns": null,
            "grid_template_rows": null,
            "height": null,
            "justify_content": null,
            "justify_items": null,
            "left": null,
            "margin": null,
            "max_height": null,
            "max_width": null,
            "min_height": null,
            "min_width": null,
            "object_fit": null,
            "object_position": null,
            "order": null,
            "overflow": null,
            "overflow_x": null,
            "overflow_y": null,
            "padding": null,
            "right": null,
            "top": null,
            "visibility": null,
            "width": null
          }
        },
        "c9895f38045741babf0a151602dd036b": {
          "model_module": "@jupyter-widgets/base",
          "model_name": "LayoutModel",
          "model_module_version": "1.2.0",
          "state": {
            "_model_module": "@jupyter-widgets/base",
            "_model_module_version": "1.2.0",
            "_model_name": "LayoutModel",
            "_view_count": null,
            "_view_module": "@jupyter-widgets/base",
            "_view_module_version": "1.2.0",
            "_view_name": "LayoutView",
            "align_content": null,
            "align_items": null,
            "align_self": null,
            "border": null,
            "bottom": null,
            "display": null,
            "flex": null,
            "flex_flow": null,
            "grid_area": null,
            "grid_auto_columns": null,
            "grid_auto_flow": null,
            "grid_auto_rows": null,
            "grid_column": null,
            "grid_gap": null,
            "grid_row": null,
            "grid_template_areas": null,
            "grid_template_columns": null,
            "grid_template_rows": null,
            "height": null,
            "justify_content": null,
            "justify_items": null,
            "left": null,
            "margin": null,
            "max_height": null,
            "max_width": null,
            "min_height": null,
            "min_width": null,
            "object_fit": null,
            "object_position": null,
            "order": null,
            "overflow": null,
            "overflow_x": null,
            "overflow_y": null,
            "padding": null,
            "right": null,
            "top": null,
            "visibility": null,
            "width": null
          }
        },
        "9d79e430b8244735846c78714dc682cb": {
          "model_module": "@jupyter-widgets/controls",
          "model_name": "DescriptionStyleModel",
          "model_module_version": "1.5.0",
          "state": {
            "_model_module": "@jupyter-widgets/controls",
            "_model_module_version": "1.5.0",
            "_model_name": "DescriptionStyleModel",
            "_view_count": null,
            "_view_module": "@jupyter-widgets/base",
            "_view_module_version": "1.2.0",
            "_view_name": "StyleView",
            "description_width": ""
          }
        },
        "4dc539d73e6d4f369e9797097adf9084": {
          "model_module": "@jupyter-widgets/base",
          "model_name": "LayoutModel",
          "model_module_version": "1.2.0",
          "state": {
            "_model_module": "@jupyter-widgets/base",
            "_model_module_version": "1.2.0",
            "_model_name": "LayoutModel",
            "_view_count": null,
            "_view_module": "@jupyter-widgets/base",
            "_view_module_version": "1.2.0",
            "_view_name": "LayoutView",
            "align_content": null,
            "align_items": null,
            "align_self": null,
            "border": null,
            "bottom": null,
            "display": null,
            "flex": null,
            "flex_flow": null,
            "grid_area": null,
            "grid_auto_columns": null,
            "grid_auto_flow": null,
            "grid_auto_rows": null,
            "grid_column": null,
            "grid_gap": null,
            "grid_row": null,
            "grid_template_areas": null,
            "grid_template_columns": null,
            "grid_template_rows": null,
            "height": null,
            "justify_content": null,
            "justify_items": null,
            "left": null,
            "margin": null,
            "max_height": null,
            "max_width": null,
            "min_height": null,
            "min_width": null,
            "object_fit": null,
            "object_position": null,
            "order": null,
            "overflow": null,
            "overflow_x": null,
            "overflow_y": null,
            "padding": null,
            "right": null,
            "top": null,
            "visibility": null,
            "width": null
          }
        },
        "0763943199d9427dba65b56ca68aab5a": {
          "model_module": "@jupyter-widgets/controls",
          "model_name": "ProgressStyleModel",
          "model_module_version": "1.5.0",
          "state": {
            "_model_module": "@jupyter-widgets/controls",
            "_model_module_version": "1.5.0",
            "_model_name": "ProgressStyleModel",
            "_view_count": null,
            "_view_module": "@jupyter-widgets/base",
            "_view_module_version": "1.2.0",
            "_view_name": "StyleView",
            "bar_color": null,
            "description_width": ""
          }
        },
        "933e8a339b584107b7b25db7e4a67ec4": {
          "model_module": "@jupyter-widgets/base",
          "model_name": "LayoutModel",
          "model_module_version": "1.2.0",
          "state": {
            "_model_module": "@jupyter-widgets/base",
            "_model_module_version": "1.2.0",
            "_model_name": "LayoutModel",
            "_view_count": null,
            "_view_module": "@jupyter-widgets/base",
            "_view_module_version": "1.2.0",
            "_view_name": "LayoutView",
            "align_content": null,
            "align_items": null,
            "align_self": null,
            "border": null,
            "bottom": null,
            "display": null,
            "flex": null,
            "flex_flow": null,
            "grid_area": null,
            "grid_auto_columns": null,
            "grid_auto_flow": null,
            "grid_auto_rows": null,
            "grid_column": null,
            "grid_gap": null,
            "grid_row": null,
            "grid_template_areas": null,
            "grid_template_columns": null,
            "grid_template_rows": null,
            "height": null,
            "justify_content": null,
            "justify_items": null,
            "left": null,
            "margin": null,
            "max_height": null,
            "max_width": null,
            "min_height": null,
            "min_width": null,
            "object_fit": null,
            "object_position": null,
            "order": null,
            "overflow": null,
            "overflow_x": null,
            "overflow_y": null,
            "padding": null,
            "right": null,
            "top": null,
            "visibility": null,
            "width": null
          }
        },
        "f8ca3487bb3e44058ae3b5d75c71a365": {
          "model_module": "@jupyter-widgets/controls",
          "model_name": "DescriptionStyleModel",
          "model_module_version": "1.5.0",
          "state": {
            "_model_module": "@jupyter-widgets/controls",
            "_model_module_version": "1.5.0",
            "_model_name": "DescriptionStyleModel",
            "_view_count": null,
            "_view_module": "@jupyter-widgets/base",
            "_view_module_version": "1.2.0",
            "_view_name": "StyleView",
            "description_width": ""
          }
        },
        "7ed99395fc634bdd92c847ede5a3e6ce": {
          "model_module": "@jupyter-widgets/controls",
          "model_name": "HBoxModel",
          "model_module_version": "1.5.0",
          "state": {
            "_dom_classes": [],
            "_model_module": "@jupyter-widgets/controls",
            "_model_module_version": "1.5.0",
            "_model_name": "HBoxModel",
            "_view_count": null,
            "_view_module": "@jupyter-widgets/controls",
            "_view_module_version": "1.5.0",
            "_view_name": "HBoxView",
            "box_style": "",
            "children": [
              "IPY_MODEL_8d9c013d25fc495bbb2884a3a7b160f6",
              "IPY_MODEL_63132ff54dfa449aba90941e8f99c088",
              "IPY_MODEL_11ce787d1eb04663a8ae7a127ba46a25"
            ],
            "layout": "IPY_MODEL_f6938ceb2e0e4757914c22a0fa984dbf"
          }
        },
        "8d9c013d25fc495bbb2884a3a7b160f6": {
          "model_module": "@jupyter-widgets/controls",
          "model_name": "HTMLModel",
          "model_module_version": "1.5.0",
          "state": {
            "_dom_classes": [],
            "_model_module": "@jupyter-widgets/controls",
            "_model_module_version": "1.5.0",
            "_model_name": "HTMLModel",
            "_view_count": null,
            "_view_module": "@jupyter-widgets/controls",
            "_view_module_version": "1.5.0",
            "_view_name": "HTMLView",
            "description": "",
            "description_tooltip": null,
            "layout": "IPY_MODEL_15e3948ac37642e0a0c023dc6f9d2f3d",
            "placeholder": "​",
            "style": "IPY_MODEL_37c09ca41fd540e3ae16dffbdc7bf18a",
            "value": "Validating: 100%"
          }
        },
        "63132ff54dfa449aba90941e8f99c088": {
          "model_module": "@jupyter-widgets/controls",
          "model_name": "FloatProgressModel",
          "model_module_version": "1.5.0",
          "state": {
            "_dom_classes": [],
            "_model_module": "@jupyter-widgets/controls",
            "_model_module_version": "1.5.0",
            "_model_name": "FloatProgressModel",
            "_view_count": null,
            "_view_module": "@jupyter-widgets/controls",
            "_view_module_version": "1.5.0",
            "_view_name": "ProgressView",
            "bar_style": "success",
            "description": "",
            "description_tooltip": null,
            "layout": "IPY_MODEL_a079e827a7344553a6140ae25ce9b8c9",
            "max": 39,
            "min": 0,
            "orientation": "horizontal",
            "style": "IPY_MODEL_a40fce8789934e6fb3b860a98b6ac9fd",
            "value": 39
          }
        },
        "11ce787d1eb04663a8ae7a127ba46a25": {
          "model_module": "@jupyter-widgets/controls",
          "model_name": "HTMLModel",
          "model_module_version": "1.5.0",
          "state": {
            "_dom_classes": [],
            "_model_module": "@jupyter-widgets/controls",
            "_model_module_version": "1.5.0",
            "_model_name": "HTMLModel",
            "_view_count": null,
            "_view_module": "@jupyter-widgets/controls",
            "_view_module_version": "1.5.0",
            "_view_name": "HTMLView",
            "description": "",
            "description_tooltip": null,
            "layout": "IPY_MODEL_0fc19987541f4b0684172588b22c24b3",
            "placeholder": "​",
            "style": "IPY_MODEL_585447d1e6ab418ebedfd371451cf10f",
            "value": " 39/39 [00:03&lt;00:00, 13.86it/s]"
          }
        },
        "f6938ceb2e0e4757914c22a0fa984dbf": {
          "model_module": "@jupyter-widgets/base",
          "model_name": "LayoutModel",
          "model_module_version": "1.2.0",
          "state": {
            "_model_module": "@jupyter-widgets/base",
            "_model_module_version": "1.2.0",
            "_model_name": "LayoutModel",
            "_view_count": null,
            "_view_module": "@jupyter-widgets/base",
            "_view_module_version": "1.2.0",
            "_view_name": "LayoutView",
            "align_content": null,
            "align_items": null,
            "align_self": null,
            "border": null,
            "bottom": null,
            "display": null,
            "flex": null,
            "flex_flow": null,
            "grid_area": null,
            "grid_auto_columns": null,
            "grid_auto_flow": null,
            "grid_auto_rows": null,
            "grid_column": null,
            "grid_gap": null,
            "grid_row": null,
            "grid_template_areas": null,
            "grid_template_columns": null,
            "grid_template_rows": null,
            "height": null,
            "justify_content": null,
            "justify_items": null,
            "left": null,
            "margin": null,
            "max_height": null,
            "max_width": null,
            "min_height": null,
            "min_width": null,
            "object_fit": null,
            "object_position": null,
            "order": null,
            "overflow": null,
            "overflow_x": null,
            "overflow_y": null,
            "padding": null,
            "right": null,
            "top": null,
            "visibility": null,
            "width": null
          }
        },
        "15e3948ac37642e0a0c023dc6f9d2f3d": {
          "model_module": "@jupyter-widgets/base",
          "model_name": "LayoutModel",
          "model_module_version": "1.2.0",
          "state": {
            "_model_module": "@jupyter-widgets/base",
            "_model_module_version": "1.2.0",
            "_model_name": "LayoutModel",
            "_view_count": null,
            "_view_module": "@jupyter-widgets/base",
            "_view_module_version": "1.2.0",
            "_view_name": "LayoutView",
            "align_content": null,
            "align_items": null,
            "align_self": null,
            "border": null,
            "bottom": null,
            "display": null,
            "flex": null,
            "flex_flow": null,
            "grid_area": null,
            "grid_auto_columns": null,
            "grid_auto_flow": null,
            "grid_auto_rows": null,
            "grid_column": null,
            "grid_gap": null,
            "grid_row": null,
            "grid_template_areas": null,
            "grid_template_columns": null,
            "grid_template_rows": null,
            "height": null,
            "justify_content": null,
            "justify_items": null,
            "left": null,
            "margin": null,
            "max_height": null,
            "max_width": null,
            "min_height": null,
            "min_width": null,
            "object_fit": null,
            "object_position": null,
            "order": null,
            "overflow": null,
            "overflow_x": null,
            "overflow_y": null,
            "padding": null,
            "right": null,
            "top": null,
            "visibility": null,
            "width": null
          }
        },
        "37c09ca41fd540e3ae16dffbdc7bf18a": {
          "model_module": "@jupyter-widgets/controls",
          "model_name": "DescriptionStyleModel",
          "model_module_version": "1.5.0",
          "state": {
            "_model_module": "@jupyter-widgets/controls",
            "_model_module_version": "1.5.0",
            "_model_name": "DescriptionStyleModel",
            "_view_count": null,
            "_view_module": "@jupyter-widgets/base",
            "_view_module_version": "1.2.0",
            "_view_name": "StyleView",
            "description_width": ""
          }
        },
        "a079e827a7344553a6140ae25ce9b8c9": {
          "model_module": "@jupyter-widgets/base",
          "model_name": "LayoutModel",
          "model_module_version": "1.2.0",
          "state": {
            "_model_module": "@jupyter-widgets/base",
            "_model_module_version": "1.2.0",
            "_model_name": "LayoutModel",
            "_view_count": null,
            "_view_module": "@jupyter-widgets/base",
            "_view_module_version": "1.2.0",
            "_view_name": "LayoutView",
            "align_content": null,
            "align_items": null,
            "align_self": null,
            "border": null,
            "bottom": null,
            "display": null,
            "flex": null,
            "flex_flow": null,
            "grid_area": null,
            "grid_auto_columns": null,
            "grid_auto_flow": null,
            "grid_auto_rows": null,
            "grid_column": null,
            "grid_gap": null,
            "grid_row": null,
            "grid_template_areas": null,
            "grid_template_columns": null,
            "grid_template_rows": null,
            "height": null,
            "justify_content": null,
            "justify_items": null,
            "left": null,
            "margin": null,
            "max_height": null,
            "max_width": null,
            "min_height": null,
            "min_width": null,
            "object_fit": null,
            "object_position": null,
            "order": null,
            "overflow": null,
            "overflow_x": null,
            "overflow_y": null,
            "padding": null,
            "right": null,
            "top": null,
            "visibility": null,
            "width": null
          }
        },
        "a40fce8789934e6fb3b860a98b6ac9fd": {
          "model_module": "@jupyter-widgets/controls",
          "model_name": "ProgressStyleModel",
          "model_module_version": "1.5.0",
          "state": {
            "_model_module": "@jupyter-widgets/controls",
            "_model_module_version": "1.5.0",
            "_model_name": "ProgressStyleModel",
            "_view_count": null,
            "_view_module": "@jupyter-widgets/base",
            "_view_module_version": "1.2.0",
            "_view_name": "StyleView",
            "bar_color": null,
            "description_width": ""
          }
        },
        "0fc19987541f4b0684172588b22c24b3": {
          "model_module": "@jupyter-widgets/base",
          "model_name": "LayoutModel",
          "model_module_version": "1.2.0",
          "state": {
            "_model_module": "@jupyter-widgets/base",
            "_model_module_version": "1.2.0",
            "_model_name": "LayoutModel",
            "_view_count": null,
            "_view_module": "@jupyter-widgets/base",
            "_view_module_version": "1.2.0",
            "_view_name": "LayoutView",
            "align_content": null,
            "align_items": null,
            "align_self": null,
            "border": null,
            "bottom": null,
            "display": null,
            "flex": null,
            "flex_flow": null,
            "grid_area": null,
            "grid_auto_columns": null,
            "grid_auto_flow": null,
            "grid_auto_rows": null,
            "grid_column": null,
            "grid_gap": null,
            "grid_row": null,
            "grid_template_areas": null,
            "grid_template_columns": null,
            "grid_template_rows": null,
            "height": null,
            "justify_content": null,
            "justify_items": null,
            "left": null,
            "margin": null,
            "max_height": null,
            "max_width": null,
            "min_height": null,
            "min_width": null,
            "object_fit": null,
            "object_position": null,
            "order": null,
            "overflow": null,
            "overflow_x": null,
            "overflow_y": null,
            "padding": null,
            "right": null,
            "top": null,
            "visibility": null,
            "width": null
          }
        },
        "585447d1e6ab418ebedfd371451cf10f": {
          "model_module": "@jupyter-widgets/controls",
          "model_name": "DescriptionStyleModel",
          "model_module_version": "1.5.0",
          "state": {
            "_model_module": "@jupyter-widgets/controls",
            "_model_module_version": "1.5.0",
            "_model_name": "DescriptionStyleModel",
            "_view_count": null,
            "_view_module": "@jupyter-widgets/base",
            "_view_module_version": "1.2.0",
            "_view_name": "StyleView",
            "description_width": ""
          }
        },
        "3a878ecd624b4ed98b11d3c0b158a476": {
          "model_module": "@jupyter-widgets/controls",
          "model_name": "HBoxModel",
          "model_module_version": "1.5.0",
          "state": {
            "_dom_classes": [],
            "_model_module": "@jupyter-widgets/controls",
            "_model_module_version": "1.5.0",
            "_model_name": "HBoxModel",
            "_view_count": null,
            "_view_module": "@jupyter-widgets/controls",
            "_view_module_version": "1.5.0",
            "_view_name": "HBoxView",
            "box_style": "",
            "children": [
              "IPY_MODEL_610be155164044aeb783869bba0e4f49",
              "IPY_MODEL_4f7b0e5918af4b8882e79c53de9c728e",
              "IPY_MODEL_8fc62441c80248c19d42c50782b2631b"
            ],
            "layout": "IPY_MODEL_53b5ec647d724b68aa6ca90c3ebb5626"
          }
        },
        "610be155164044aeb783869bba0e4f49": {
          "model_module": "@jupyter-widgets/controls",
          "model_name": "HTMLModel",
          "model_module_version": "1.5.0",
          "state": {
            "_dom_classes": [],
            "_model_module": "@jupyter-widgets/controls",
            "_model_module_version": "1.5.0",
            "_model_name": "HTMLModel",
            "_view_count": null,
            "_view_module": "@jupyter-widgets/controls",
            "_view_module_version": "1.5.0",
            "_view_name": "HTMLView",
            "description": "",
            "description_tooltip": null,
            "layout": "IPY_MODEL_787ef12ec03d46049cac5dc598bc5d09",
            "placeholder": "​",
            "style": "IPY_MODEL_511dec20fc7d4584a27859b86e0e17ef",
            "value": "Testing: 100%"
          }
        },
        "4f7b0e5918af4b8882e79c53de9c728e": {
          "model_module": "@jupyter-widgets/controls",
          "model_name": "FloatProgressModel",
          "model_module_version": "1.5.0",
          "state": {
            "_dom_classes": [],
            "_model_module": "@jupyter-widgets/controls",
            "_model_module_version": "1.5.0",
            "_model_name": "FloatProgressModel",
            "_view_count": null,
            "_view_module": "@jupyter-widgets/controls",
            "_view_module_version": "1.5.0",
            "_view_name": "ProgressView",
            "bar_style": "success",
            "description": "",
            "description_tooltip": null,
            "layout": "IPY_MODEL_cc4e9d4d1f6848e0924b29310e66592f",
            "max": 125,
            "min": 0,
            "orientation": "horizontal",
            "style": "IPY_MODEL_8065a6a3d81d4fcdbca4394bf6155bbf",
            "value": 125
          }
        },
        "8fc62441c80248c19d42c50782b2631b": {
          "model_module": "@jupyter-widgets/controls",
          "model_name": "HTMLModel",
          "model_module_version": "1.5.0",
          "state": {
            "_dom_classes": [],
            "_model_module": "@jupyter-widgets/controls",
            "_model_module_version": "1.5.0",
            "_model_name": "HTMLModel",
            "_view_count": null,
            "_view_module": "@jupyter-widgets/controls",
            "_view_module_version": "1.5.0",
            "_view_name": "HTMLView",
            "description": "",
            "description_tooltip": null,
            "layout": "IPY_MODEL_367cf3f93ad748808532dce65e76a47f",
            "placeholder": "​",
            "style": "IPY_MODEL_d9c63ff672384965b03253234b0ccfbb",
            "value": " 125/125 [00:09&lt;00:00, 12.89it/s]"
          }
        },
        "53b5ec647d724b68aa6ca90c3ebb5626": {
          "model_module": "@jupyter-widgets/base",
          "model_name": "LayoutModel",
          "model_module_version": "1.2.0",
          "state": {
            "_model_module": "@jupyter-widgets/base",
            "_model_module_version": "1.2.0",
            "_model_name": "LayoutModel",
            "_view_count": null,
            "_view_module": "@jupyter-widgets/base",
            "_view_module_version": "1.2.0",
            "_view_name": "LayoutView",
            "align_content": null,
            "align_items": null,
            "align_self": null,
            "border": null,
            "bottom": null,
            "display": null,
            "flex": null,
            "flex_flow": null,
            "grid_area": null,
            "grid_auto_columns": null,
            "grid_auto_flow": null,
            "grid_auto_rows": null,
            "grid_column": null,
            "grid_gap": null,
            "grid_row": null,
            "grid_template_areas": null,
            "grid_template_columns": null,
            "grid_template_rows": null,
            "height": null,
            "justify_content": null,
            "justify_items": null,
            "left": null,
            "margin": null,
            "max_height": null,
            "max_width": null,
            "min_height": null,
            "min_width": null,
            "object_fit": null,
            "object_position": null,
            "order": null,
            "overflow": null,
            "overflow_x": null,
            "overflow_y": null,
            "padding": null,
            "right": null,
            "top": null,
            "visibility": null,
            "width": null
          }
        },
        "787ef12ec03d46049cac5dc598bc5d09": {
          "model_module": "@jupyter-widgets/base",
          "model_name": "LayoutModel",
          "model_module_version": "1.2.0",
          "state": {
            "_model_module": "@jupyter-widgets/base",
            "_model_module_version": "1.2.0",
            "_model_name": "LayoutModel",
            "_view_count": null,
            "_view_module": "@jupyter-widgets/base",
            "_view_module_version": "1.2.0",
            "_view_name": "LayoutView",
            "align_content": null,
            "align_items": null,
            "align_self": null,
            "border": null,
            "bottom": null,
            "display": null,
            "flex": null,
            "flex_flow": null,
            "grid_area": null,
            "grid_auto_columns": null,
            "grid_auto_flow": null,
            "grid_auto_rows": null,
            "grid_column": null,
            "grid_gap": null,
            "grid_row": null,
            "grid_template_areas": null,
            "grid_template_columns": null,
            "grid_template_rows": null,
            "height": null,
            "justify_content": null,
            "justify_items": null,
            "left": null,
            "margin": null,
            "max_height": null,
            "max_width": null,
            "min_height": null,
            "min_width": null,
            "object_fit": null,
            "object_position": null,
            "order": null,
            "overflow": null,
            "overflow_x": null,
            "overflow_y": null,
            "padding": null,
            "right": null,
            "top": null,
            "visibility": null,
            "width": null
          }
        },
        "511dec20fc7d4584a27859b86e0e17ef": {
          "model_module": "@jupyter-widgets/controls",
          "model_name": "DescriptionStyleModel",
          "model_module_version": "1.5.0",
          "state": {
            "_model_module": "@jupyter-widgets/controls",
            "_model_module_version": "1.5.0",
            "_model_name": "DescriptionStyleModel",
            "_view_count": null,
            "_view_module": "@jupyter-widgets/base",
            "_view_module_version": "1.2.0",
            "_view_name": "StyleView",
            "description_width": ""
          }
        },
        "cc4e9d4d1f6848e0924b29310e66592f": {
          "model_module": "@jupyter-widgets/base",
          "model_name": "LayoutModel",
          "model_module_version": "1.2.0",
          "state": {
            "_model_module": "@jupyter-widgets/base",
            "_model_module_version": "1.2.0",
            "_model_name": "LayoutModel",
            "_view_count": null,
            "_view_module": "@jupyter-widgets/base",
            "_view_module_version": "1.2.0",
            "_view_name": "LayoutView",
            "align_content": null,
            "align_items": null,
            "align_self": null,
            "border": null,
            "bottom": null,
            "display": null,
            "flex": null,
            "flex_flow": null,
            "grid_area": null,
            "grid_auto_columns": null,
            "grid_auto_flow": null,
            "grid_auto_rows": null,
            "grid_column": null,
            "grid_gap": null,
            "grid_row": null,
            "grid_template_areas": null,
            "grid_template_columns": null,
            "grid_template_rows": null,
            "height": null,
            "justify_content": null,
            "justify_items": null,
            "left": null,
            "margin": null,
            "max_height": null,
            "max_width": null,
            "min_height": null,
            "min_width": null,
            "object_fit": null,
            "object_position": null,
            "order": null,
            "overflow": null,
            "overflow_x": null,
            "overflow_y": null,
            "padding": null,
            "right": null,
            "top": null,
            "visibility": null,
            "width": null
          }
        },
        "8065a6a3d81d4fcdbca4394bf6155bbf": {
          "model_module": "@jupyter-widgets/controls",
          "model_name": "ProgressStyleModel",
          "model_module_version": "1.5.0",
          "state": {
            "_model_module": "@jupyter-widgets/controls",
            "_model_module_version": "1.5.0",
            "_model_name": "ProgressStyleModel",
            "_view_count": null,
            "_view_module": "@jupyter-widgets/base",
            "_view_module_version": "1.2.0",
            "_view_name": "StyleView",
            "bar_color": null,
            "description_width": ""
          }
        },
        "367cf3f93ad748808532dce65e76a47f": {
          "model_module": "@jupyter-widgets/base",
          "model_name": "LayoutModel",
          "model_module_version": "1.2.0",
          "state": {
            "_model_module": "@jupyter-widgets/base",
            "_model_module_version": "1.2.0",
            "_model_name": "LayoutModel",
            "_view_count": null,
            "_view_module": "@jupyter-widgets/base",
            "_view_module_version": "1.2.0",
            "_view_name": "LayoutView",
            "align_content": null,
            "align_items": null,
            "align_self": null,
            "border": null,
            "bottom": null,
            "display": null,
            "flex": null,
            "flex_flow": null,
            "grid_area": null,
            "grid_auto_columns": null,
            "grid_auto_flow": null,
            "grid_auto_rows": null,
            "grid_column": null,
            "grid_gap": null,
            "grid_row": null,
            "grid_template_areas": null,
            "grid_template_columns": null,
            "grid_template_rows": null,
            "height": null,
            "justify_content": null,
            "justify_items": null,
            "left": null,
            "margin": null,
            "max_height": null,
            "max_width": null,
            "min_height": null,
            "min_width": null,
            "object_fit": null,
            "object_position": null,
            "order": null,
            "overflow": null,
            "overflow_x": null,
            "overflow_y": null,
            "padding": null,
            "right": null,
            "top": null,
            "visibility": null,
            "width": null
          }
        },
        "d9c63ff672384965b03253234b0ccfbb": {
          "model_module": "@jupyter-widgets/controls",
          "model_name": "DescriptionStyleModel",
          "model_module_version": "1.5.0",
          "state": {
            "_model_module": "@jupyter-widgets/controls",
            "_model_module_version": "1.5.0",
            "_model_name": "DescriptionStyleModel",
            "_view_count": null,
            "_view_module": "@jupyter-widgets/base",
            "_view_module_version": "1.2.0",
            "_view_name": "StyleView",
            "description_width": ""
          }
        },
        "60b04bb166c34d59b525355d415c22b4": {
          "model_module": "@jupyter-widgets/controls",
          "model_name": "HBoxModel",
          "model_module_version": "1.5.0",
          "state": {
            "_dom_classes": [],
            "_model_module": "@jupyter-widgets/controls",
            "_model_module_version": "1.5.0",
            "_model_name": "HBoxModel",
            "_view_count": null,
            "_view_module": "@jupyter-widgets/controls",
            "_view_module_version": "1.5.0",
            "_view_name": "HBoxView",
            "box_style": "",
            "children": [
              "IPY_MODEL_6aa8033852ba456dbf747703cefd5e4b",
              "IPY_MODEL_78be5ab9eb454c06990dd85f4e982d0f",
              "IPY_MODEL_ecf562f7a76249c4afbe8736d2072c42"
            ],
            "layout": "IPY_MODEL_2484aaf39bd44b4ea20205f6930b9324"
          }
        },
        "6aa8033852ba456dbf747703cefd5e4b": {
          "model_module": "@jupyter-widgets/controls",
          "model_name": "HTMLModel",
          "model_module_version": "1.5.0",
          "state": {
            "_dom_classes": [],
            "_model_module": "@jupyter-widgets/controls",
            "_model_module_version": "1.5.0",
            "_model_name": "HTMLModel",
            "_view_count": null,
            "_view_module": "@jupyter-widgets/controls",
            "_view_module_version": "1.5.0",
            "_view_name": "HTMLView",
            "description": "",
            "description_tooltip": null,
            "layout": "IPY_MODEL_5f64c4a1358f4caf865ab20d1abaf2d7",
            "placeholder": "​",
            "style": "IPY_MODEL_b677386d079943748b46ad7e1201f98c",
            "value": "Predicting: 100%"
          }
        },
        "78be5ab9eb454c06990dd85f4e982d0f": {
          "model_module": "@jupyter-widgets/controls",
          "model_name": "FloatProgressModel",
          "model_module_version": "1.5.0",
          "state": {
            "_dom_classes": [],
            "_model_module": "@jupyter-widgets/controls",
            "_model_module_version": "1.5.0",
            "_model_name": "FloatProgressModel",
            "_view_count": null,
            "_view_module": "@jupyter-widgets/controls",
            "_view_module_version": "1.5.0",
            "_view_name": "ProgressView",
            "bar_style": "success",
            "description": "",
            "description_tooltip": null,
            "layout": "IPY_MODEL_7b5d43d01bbd4880ab487b077d633aa5",
            "max": 125,
            "min": 0,
            "orientation": "horizontal",
            "style": "IPY_MODEL_8d869fe9b05344e2bfd793fafffae726",
            "value": 125
          }
        },
        "ecf562f7a76249c4afbe8736d2072c42": {
          "model_module": "@jupyter-widgets/controls",
          "model_name": "HTMLModel",
          "model_module_version": "1.5.0",
          "state": {
            "_dom_classes": [],
            "_model_module": "@jupyter-widgets/controls",
            "_model_module_version": "1.5.0",
            "_model_name": "HTMLModel",
            "_view_count": null,
            "_view_module": "@jupyter-widgets/controls",
            "_view_module_version": "1.5.0",
            "_view_name": "HTMLView",
            "description": "",
            "description_tooltip": null,
            "layout": "IPY_MODEL_ded2b3124ea94c68875ec823e7f0a5b3",
            "placeholder": "​",
            "style": "IPY_MODEL_9f3ee85f0a934523b5183b4494a7dbb4",
            "value": " 125/125 [00:10&lt;00:00, 13.20it/s]"
          }
        },
        "2484aaf39bd44b4ea20205f6930b9324": {
          "model_module": "@jupyter-widgets/base",
          "model_name": "LayoutModel",
          "model_module_version": "1.2.0",
          "state": {
            "_model_module": "@jupyter-widgets/base",
            "_model_module_version": "1.2.0",
            "_model_name": "LayoutModel",
            "_view_count": null,
            "_view_module": "@jupyter-widgets/base",
            "_view_module_version": "1.2.0",
            "_view_name": "LayoutView",
            "align_content": null,
            "align_items": null,
            "align_self": null,
            "border": null,
            "bottom": null,
            "display": null,
            "flex": null,
            "flex_flow": null,
            "grid_area": null,
            "grid_auto_columns": null,
            "grid_auto_flow": null,
            "grid_auto_rows": null,
            "grid_column": null,
            "grid_gap": null,
            "grid_row": null,
            "grid_template_areas": null,
            "grid_template_columns": null,
            "grid_template_rows": null,
            "height": null,
            "justify_content": null,
            "justify_items": null,
            "left": null,
            "margin": null,
            "max_height": null,
            "max_width": null,
            "min_height": null,
            "min_width": null,
            "object_fit": null,
            "object_position": null,
            "order": null,
            "overflow": null,
            "overflow_x": null,
            "overflow_y": null,
            "padding": null,
            "right": null,
            "top": null,
            "visibility": null,
            "width": null
          }
        },
        "5f64c4a1358f4caf865ab20d1abaf2d7": {
          "model_module": "@jupyter-widgets/base",
          "model_name": "LayoutModel",
          "model_module_version": "1.2.0",
          "state": {
            "_model_module": "@jupyter-widgets/base",
            "_model_module_version": "1.2.0",
            "_model_name": "LayoutModel",
            "_view_count": null,
            "_view_module": "@jupyter-widgets/base",
            "_view_module_version": "1.2.0",
            "_view_name": "LayoutView",
            "align_content": null,
            "align_items": null,
            "align_self": null,
            "border": null,
            "bottom": null,
            "display": null,
            "flex": null,
            "flex_flow": null,
            "grid_area": null,
            "grid_auto_columns": null,
            "grid_auto_flow": null,
            "grid_auto_rows": null,
            "grid_column": null,
            "grid_gap": null,
            "grid_row": null,
            "grid_template_areas": null,
            "grid_template_columns": null,
            "grid_template_rows": null,
            "height": null,
            "justify_content": null,
            "justify_items": null,
            "left": null,
            "margin": null,
            "max_height": null,
            "max_width": null,
            "min_height": null,
            "min_width": null,
            "object_fit": null,
            "object_position": null,
            "order": null,
            "overflow": null,
            "overflow_x": null,
            "overflow_y": null,
            "padding": null,
            "right": null,
            "top": null,
            "visibility": null,
            "width": null
          }
        },
        "b677386d079943748b46ad7e1201f98c": {
          "model_module": "@jupyter-widgets/controls",
          "model_name": "DescriptionStyleModel",
          "model_module_version": "1.5.0",
          "state": {
            "_model_module": "@jupyter-widgets/controls",
            "_model_module_version": "1.5.0",
            "_model_name": "DescriptionStyleModel",
            "_view_count": null,
            "_view_module": "@jupyter-widgets/base",
            "_view_module_version": "1.2.0",
            "_view_name": "StyleView",
            "description_width": ""
          }
        },
        "7b5d43d01bbd4880ab487b077d633aa5": {
          "model_module": "@jupyter-widgets/base",
          "model_name": "LayoutModel",
          "model_module_version": "1.2.0",
          "state": {
            "_model_module": "@jupyter-widgets/base",
            "_model_module_version": "1.2.0",
            "_model_name": "LayoutModel",
            "_view_count": null,
            "_view_module": "@jupyter-widgets/base",
            "_view_module_version": "1.2.0",
            "_view_name": "LayoutView",
            "align_content": null,
            "align_items": null,
            "align_self": null,
            "border": null,
            "bottom": null,
            "display": null,
            "flex": null,
            "flex_flow": null,
            "grid_area": null,
            "grid_auto_columns": null,
            "grid_auto_flow": null,
            "grid_auto_rows": null,
            "grid_column": null,
            "grid_gap": null,
            "grid_row": null,
            "grid_template_areas": null,
            "grid_template_columns": null,
            "grid_template_rows": null,
            "height": null,
            "justify_content": null,
            "justify_items": null,
            "left": null,
            "margin": null,
            "max_height": null,
            "max_width": null,
            "min_height": null,
            "min_width": null,
            "object_fit": null,
            "object_position": null,
            "order": null,
            "overflow": null,
            "overflow_x": null,
            "overflow_y": null,
            "padding": null,
            "right": null,
            "top": null,
            "visibility": null,
            "width": null
          }
        },
        "8d869fe9b05344e2bfd793fafffae726": {
          "model_module": "@jupyter-widgets/controls",
          "model_name": "ProgressStyleModel",
          "model_module_version": "1.5.0",
          "state": {
            "_model_module": "@jupyter-widgets/controls",
            "_model_module_version": "1.5.0",
            "_model_name": "ProgressStyleModel",
            "_view_count": null,
            "_view_module": "@jupyter-widgets/base",
            "_view_module_version": "1.2.0",
            "_view_name": "StyleView",
            "bar_color": null,
            "description_width": ""
          }
        },
        "ded2b3124ea94c68875ec823e7f0a5b3": {
          "model_module": "@jupyter-widgets/base",
          "model_name": "LayoutModel",
          "model_module_version": "1.2.0",
          "state": {
            "_model_module": "@jupyter-widgets/base",
            "_model_module_version": "1.2.0",
            "_model_name": "LayoutModel",
            "_view_count": null,
            "_view_module": "@jupyter-widgets/base",
            "_view_module_version": "1.2.0",
            "_view_name": "LayoutView",
            "align_content": null,
            "align_items": null,
            "align_self": null,
            "border": null,
            "bottom": null,
            "display": null,
            "flex": null,
            "flex_flow": null,
            "grid_area": null,
            "grid_auto_columns": null,
            "grid_auto_flow": null,
            "grid_auto_rows": null,
            "grid_column": null,
            "grid_gap": null,
            "grid_row": null,
            "grid_template_areas": null,
            "grid_template_columns": null,
            "grid_template_rows": null,
            "height": null,
            "justify_content": null,
            "justify_items": null,
            "left": null,
            "margin": null,
            "max_height": null,
            "max_width": null,
            "min_height": null,
            "min_width": null,
            "object_fit": null,
            "object_position": null,
            "order": null,
            "overflow": null,
            "overflow_x": null,
            "overflow_y": null,
            "padding": null,
            "right": null,
            "top": null,
            "visibility": null,
            "width": null
          }
        },
        "9f3ee85f0a934523b5183b4494a7dbb4": {
          "model_module": "@jupyter-widgets/controls",
          "model_name": "DescriptionStyleModel",
          "model_module_version": "1.5.0",
          "state": {
            "_model_module": "@jupyter-widgets/controls",
            "_model_module_version": "1.5.0",
            "_model_name": "DescriptionStyleModel",
            "_view_count": null,
            "_view_module": "@jupyter-widgets/base",
            "_view_module_version": "1.2.0",
            "_view_name": "StyleView",
            "description_width": ""
          }
        }
      }
    }
  },
  "nbformat": 4,
  "nbformat_minor": 0
}