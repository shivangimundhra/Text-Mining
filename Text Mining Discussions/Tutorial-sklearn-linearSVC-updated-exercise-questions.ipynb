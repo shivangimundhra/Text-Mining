{
 "cells": [
  {
   "cell_type": "markdown",
   "metadata": {},
   "source": [
    "# Tutorial - build LinearSVC model with sklearn"
   ]
  },
  {
   "cell_type": "markdown",
   "metadata": {},
   "source": [
    "This tutorial demonstrates how to use the Sci-kit Learn (sklearn) package to build linearSVC model, rank features, and use the model for prediction. We will be using the Kaggle sentiment data again.\n",
    "\n",
    "Note that sklearn actually provides two SVM algorithms: SVC and LinearSVC. \n",
    "\n",
    "The SVC module allows for choosing nonlinear kernels, and it uses one-vs-one strategy for multi-class classification.\n",
    "\n",
    "The LinearSVC module uses the linear kernel, and it uses one-vs-all strategy for multi-class classification, so linearSVC is generally faster than SVC. Since linear kernel works better for text classification in general, this tutorial demonstrates how to use LinearSVC for text classification."
   ]
  },
  {
   "cell_type": "markdown",
   "metadata": {},
   "source": [
    "# Step 1: Read in data"
   ]
  },
  {
   "cell_type": "code",
   "execution_count": 1,
   "metadata": {},
   "outputs": [],
   "source": [
    "# this step is the same as the NB script\n",
    "\n",
    "# read in the training data\n",
    "# the data set includes four columns: PhraseId, SentenceId, Phrase, Sentiment\n",
    "# In this data set a sentence is further split into phrases \n",
    "# in order to build a sentiment classification model\n",
    "# that can not only predict sentiment of sentences but also shorter phrases\n",
    "\n",
    "# A data example:\n",
    "# PhraseId SentenceId Phrase Sentiment\n",
    "# 1 1 A series of escapades demonstrating the adage that what is good for the goose is also good for the gander , some of which occasionally amuses but none of which amounts to much of a story .1\n",
    "\n",
    "# the Phrase column includes the training examples\n",
    "# the Sentiment column includes the training labels\n",
    "# \"0\" for very negative\n",
    "# \"1\" for negative\n",
    "# \"2\" for neutral\n",
    "# \"3\" for positive\n",
    "# \"4\" for very positive\n",
    "\n",
    "\n",
    "import pandas as p\n",
    "import numpy as np\n",
    "train=p.read_csv(\"/Users/shivangi/Downloads/kaggle-sentiment/train.tsv\", delimiter='\\t')\n",
    "y=train['Sentiment'].values\n",
    "X=train['Phrase'].values"
   ]
  },
  {
   "cell_type": "markdown",
   "metadata": {},
   "source": [
    "# Step 2: Split train/test data for hold-out test"
   ]
  },
  {
   "cell_type": "code",
   "execution_count": 2,
   "metadata": {},
   "outputs": [
    {
     "name": "stdout",
     "output_type": "stream",
     "text": [
      "(93636,) (93636,) (62424,) (62424,)\n",
      "almost in a class with that of Wilde\n",
      "3\n",
      "escape movie\n",
      "2\n"
     ]
    }
   ],
   "source": [
    "# this step is the same as the NB script\n",
    "\n",
    "# check the sklearn documentation for train_test_split\n",
    "# http://scikit-learn.org/stable/modules/generated/sklearn.model_selection.train_test_split.html\n",
    "# \"test_size\" : float, int, None, optional\n",
    "# If float, should be between 0.0 and 1.0 and represent the proportion of the dataset to include in the test split. \n",
    "# If int, represents the absolute number of test samples. \n",
    "# If None, the value is set to the complement of the train size. \n",
    "# By default, the value is set to 0.25. The default will change in version 0.21. It will remain 0.25 only if train_size is unspecified, otherwise it will complement the specified train_size.    \n",
    "\n",
    "from sklearn.model_selection import train_test_split\n",
    "X_train, X_test, y_train, y_test = train_test_split(X, y, test_size=0.4, random_state=0)\n",
    "\n",
    "print(X_train.shape, y_train.shape, X_test.shape, y_test.shape)\n",
    "print(X_train[0])\n",
    "print(y_train[0])\n",
    "print(X_test[0])\n",
    "print(y_test[0])"
   ]
  },
  {
   "cell_type": "markdown",
   "metadata": {},
   "source": [
    "Sample output from the code above:\n",
    "\n",
    "(93636,) (93636,) (62424,) (62424,)\n",
    "almost in a class with that of Wilde\n",
    "3\n",
    "escape movie\n",
    "2"
   ]
  },
  {
   "cell_type": "markdown",
   "metadata": {},
   "source": [
    "# Step 2.1 Data Checking"
   ]
  },
  {
   "cell_type": "code",
   "execution_count": 3,
   "metadata": {},
   "outputs": [
    {
     "name": "stdout",
     "output_type": "stream",
     "text": [
      "[[    0     1     2     3     4]\n",
      " [ 4141 16449 47718 19859  5469]]\n"
     ]
    }
   ],
   "source": [
    "# this step is the same as the NB script\n",
    "\n",
    "# Check how many training examples in each category\n",
    "# this is important to see whether the data set is balanced or skewed\n",
    "\n",
    "unique, counts = np.unique(y_train, return_counts=True)\n",
    "print(np.asarray((unique, counts)))"
   ]
  },
  {
   "cell_type": "markdown",
   "metadata": {},
   "source": [
    "The sample output shows that the data set is skewed with 47718/93636=51% \"neutral\" examples. All other categories are smaller.\n",
    "\n",
    "{0, 1, 2, 3, 4}\n",
    "[[    0  4141]\n",
    " [    1 16449]\n",
    " [    2 47718]\n",
    " [    3 19859]\n",
    " [    4  5469]]"
   ]
  },
  {
   "cell_type": "markdown",
   "metadata": {},
   "source": [
    "# Step 3: Vectorization"
   ]
  },
  {
   "cell_type": "code",
   "execution_count": 4,
   "metadata": {},
   "outputs": [],
   "source": [
    "# this step is the same as the NB script\n",
    "\n",
    "# sklearn contains two vectorizers\n",
    "\n",
    "# CountVectorizer can give you Boolean or TF vectors\n",
    "# http://scikit-learn.org/stable/modules/generated/sklearn.feature_extraction.text.CountVectorizer.html\n",
    "\n",
    "# TfidfVectorizer can give you TF or TFIDF vectors\n",
    "# http://scikit-learn.org/stable/modules/generated/sklearn.feature_extraction.text.TfidfVectorizer.html\n",
    "\n",
    "# Read the sklearn documentation to understand all vectorization options\n",
    "\n",
    "from sklearn.feature_extraction.text import CountVectorizer\n",
    "from sklearn.feature_extraction.text import TfidfVectorizer\n",
    "\n",
    "# several commonly used vectorizer setting\n",
    "\n",
    "#  unigram boolean vectorizer, set minimum document frequency to 5\n",
    "unigram_bool_vectorizer = CountVectorizer(encoding='latin-1', binary=True, min_df=5, stop_words='english')\n",
    "\n",
    "#  unigram term frequency vectorizer, set minimum document frequency to 5\n",
    "unigram_count_vectorizer = CountVectorizer(encoding='latin-1', binary=False, min_df=5, stop_words='english')\n",
    "\n",
    "#  unigram and bigram term frequency vectorizer, set minimum document frequency to 5\n",
    "gram12_count_vectorizer = CountVectorizer(encoding='latin-1', ngram_range=(1,2), min_df=5, stop_words='english')\n",
    "\n",
    "#  unigram tfidf vectorizer, set minimum document frequency to 5\n",
    "unigram_tfidf_vectorizer = TfidfVectorizer(encoding='latin-1', use_idf=True, min_df=5, stop_words='english')\n"
   ]
  },
  {
   "cell_type": "markdown",
   "metadata": {},
   "source": [
    "## Step 3.1: Vectorize the training data"
   ]
  },
  {
   "cell_type": "code",
   "execution_count": 5,
   "metadata": {},
   "outputs": [
    {
     "name": "stdout",
     "output_type": "stream",
     "text": [
      "(93636, 11967)\n",
      "[[0 0 0 ... 0 0 0]]\n",
      "11967\n",
      "[('class', 1858), ('wilde', 11742), ('derring', 2802), ('chilling', 1764), ('affecting', 313), ('meanspirited', 6557), ('personal', 7662), ('low', 6296), ('involved', 5602), ('worth', 11868)]\n",
      "5224\n"
     ]
    }
   ],
   "source": [
    "# this step is the same as the NB script\n",
    "\n",
    "# The vectorizer can do \"fit\" and \"transform\"\n",
    "# fit is a process to collect unique tokens into the vocabulary\n",
    "# transform is a process to convert each document to vector based on the vocabulary\n",
    "# These two processes can be done together using fit_transform(), or used individually: fit() or transform()\n",
    "\n",
    "# fit vocabulary in training documents and transform the training documents into vectors\n",
    "X_train_vec = unigram_count_vectorizer.fit_transform(X_train)\n",
    "\n",
    "# check the content of a document vector\n",
    "print(X_train_vec.shape)\n",
    "print(X_train_vec[0].toarray())\n",
    "\n",
    "# check the size of the constructed vocabulary\n",
    "print(len(unigram_count_vectorizer.vocabulary_))\n",
    "\n",
    "# print out the first 10 items in the vocabulary\n",
    "print(list(unigram_count_vectorizer.vocabulary_.items())[:10])\n",
    "\n",
    "# check word index in vocabulary\n",
    "print(unigram_count_vectorizer.vocabulary_.get('imaginative'))"
   ]
  },
  {
   "cell_type": "markdown",
   "metadata": {},
   "source": [
    "Sample output:\n",
    "\n",
    "(93636, 11967)\n",
    "[[0 0 0 ..., 0 0 0]]\n",
    "11967\n",
    "[('imaginative', 5224), ('tom', 10809), ('smiling', 9708), ('easy', 3310), ('diversity', 3060), ('impossibly', 5279), ('buy', 1458), ('sentiments', 9305), ('households', 5095), ('deteriorates', 2843)]\n",
    "5224"
   ]
  },
  {
   "cell_type": "markdown",
   "metadata": {},
   "source": [
    "## Step 3.2: Vectorize the test data"
   ]
  },
  {
   "cell_type": "code",
   "execution_count": 6,
   "metadata": {},
   "outputs": [
    {
     "name": "stdout",
     "output_type": "stream",
     "text": [
      "(62424, 11967)\n"
     ]
    }
   ],
   "source": [
    "# this step is the same as the NB script\n",
    "\n",
    "# use the vocabulary constructed from the training data to vectorize the test data. \n",
    "# Therefore, use \"transform\" only, not \"fit_transform\", \n",
    "# otherwise \"fit\" would generate a new vocabulary from the test data\n",
    "\n",
    "X_test_vec = unigram_count_vectorizer.transform(X_test)\n",
    "\n",
    "# print out #examples and #features in the test set\n",
    "print(X_test_vec.shape)"
   ]
  },
  {
   "cell_type": "markdown",
   "metadata": {},
   "source": [
    "Sample output:\n",
    "\n",
    "(62424, 14324)"
   ]
  },
  {
   "cell_type": "markdown",
   "metadata": {},
   "source": [
    "# Step 4: Train a LinearSVC classifier"
   ]
  },
  {
   "cell_type": "code",
   "execution_count": 7,
   "metadata": {},
   "outputs": [
    {
     "data": {
      "text/plain": [
       "LinearSVC(C=1)"
      ]
     },
     "execution_count": 7,
     "metadata": {},
     "output_type": "execute_result"
    }
   ],
   "source": [
    "# import the LinearSVC module\n",
    "from sklearn.svm import LinearSVC\n",
    "\n",
    "# initialize the LinearSVC model\n",
    "svm_clf = LinearSVC(C=1)\n",
    "\n",
    "# use the training data to train the model\n",
    "svm_clf.fit(X_train_vec,y_train)"
   ]
  },
  {
   "cell_type": "markdown",
   "metadata": {},
   "source": [
    "# Step 4.1 Interpret a trained LinearSVC model"
   ]
  },
  {
   "cell_type": "code",
   "execution_count": 8,
   "metadata": {},
   "outputs": [
    {
     "name": "stdout",
     "output_type": "stream",
     "text": [
      "Very negative words\n",
      "(1.6216100478988977, 'cesspool')\n",
      "(1.6484881167517755, 'disappointment')\n",
      "(1.6592494849306287, 'pompous')\n",
      "(1.6683696601864677, 'stinks')\n",
      "(1.6927739819447036, 'distasteful')\n",
      "(1.6955905277536816, 'unwatchable')\n",
      "(1.7526396850091917, 'unbearable')\n",
      "(1.7873567099435386, 'stinker')\n",
      "(1.8228706148331673, 'disgusting')\n",
      "(1.8233056914034858, 'worthless')\n",
      "\n",
      "not very negative words\n",
      "(-1.8329269730191917, 'hawke')\n",
      "(-1.7372807482923114, 'giddy')\n",
      "(-1.6832952952268576, 'collar')\n",
      "(-1.5847293714382105, 'swimfan')\n",
      "(-1.572076515413363, 'blue')\n",
      "(-1.4801113883885788, 'dogtown')\n",
      "(-1.413836129011043, 'clamoring')\n",
      "(-1.4093532373501032, 'joan')\n",
      "(-1.3918161535273166, 'victim')\n",
      "(-1.340000173886529, 'compulsively')\n",
      "\n"
     ]
    }
   ],
   "source": [
    "## interpreting LinearSVC models\n",
    "## http://scikit-learn.org/stable/modules/generated/sklearn.svm.LinearSVC.html#sklearn.svm.LinearSVC\n",
    "\n",
    "## LinearSVC uses a one-vs-all strategy to extend the binary SVM classifier to multi-class problems\n",
    "## for the Kaggle sentiment classification problem, there are five categories 0,1,2,3,4 with 0 as very negative and 4 very positive\n",
    "## LinearSVC builds five binary classifier, \"very negative vs. others\", \"negative vs. others\", \"neutral vs. others\", \"positive vs. others\", \"very positive vs. others\", \n",
    "## and then pick the most confident prediction as the final prediction.\n",
    "\n",
    "## Linear SVC also ranks all features based on their contribution to distinguish the two concepts in each binary classifier\n",
    "## For category \"0\" (very negative), get all features and their weights and sort them in increasing order\n",
    "feature_ranks = sorted(zip(svm_clf.coef_[0], unigram_count_vectorizer.get_feature_names_out()))\n",
    "\n",
    "## get the 10 features that are best indicators of very negative sentiment (they are at the bottom of the ranked list)\n",
    "very_negative_10 = feature_ranks[-10:]\n",
    "print(\"Very negative words\")\n",
    "for i in range(0, len(very_negative_10)):\n",
    "    print(very_negative_10[i])\n",
    "print()\n",
    "\n",
    "## get 10 features that are least relevant to \"very negative\" sentiment (they are at the top of the ranked list)\n",
    "not_very_negative_10 = feature_ranks[:10]\n",
    "print(\"not very negative words\")\n",
    "for i in range(0, len(not_very_negative_10)):\n",
    "    print(not_very_negative_10[i])\n",
    "print()\n"
   ]
  },
  {
   "cell_type": "markdown",
   "metadata": {},
   "source": [
    "Sample output:\n",
    "\n",
    "Very negative words\n",
    "(1.5635285973159958, 'stunning')\n",
    "(1.6005795078256047, 'astonish')\n",
    "(1.610812924790558, 'refreshes')\n",
    "(1.6148905161082145, 'flawless')\n",
    "(1.6474647033330083, 'phenomenal')\n",
    "(1.6506425169734038, 'masterful')\n",
    "(1.67761558779458, 'masterfully')\n",
    "(1.8781421016763864, 'glorious')\n",
    "(1.9801881772566481, 'miraculous')\n",
    "(2.0143251933052397, 'perfection')\n",
    "\n",
    "not very negative words\n",
    "(-2.3147454187985117, 'sacrifices')\n",
    "(-1.8650987318574794, 'maintained')\n",
    "(-1.8305667747223913, 'placed')\n",
    "(-1.7974037295239631, 'argue')\n",
    "(-1.6800998534753624, '19')\n",
    "(-1.6684863939524339, 'homage')\n",
    "(-1.6179084517399509, 'failure')\n",
    "(-1.6088792786048403, 'breezy')\n",
    "(-1.6059138072144292, 'bore')\n",
    "(-1.5466693614369267, 'clone')"
   ]
  },
  {
   "cell_type": "markdown",
   "metadata": {},
   "source": [
    "# Exercise A"
   ]
  },
  {
   "cell_type": "code",
   "execution_count": 9,
   "metadata": {},
   "outputs": [
    {
     "name": "stdout",
     "output_type": "stream",
     "text": [
      "Very positive words\n",
      "(1.563528620613832, 'stunning')\n",
      "(1.6005794341085797, 'astonish')\n",
      "(1.6108129517559653, 'refreshes')\n",
      "(1.6148905709992567, 'flawless')\n",
      "(1.647464686366039, 'phenomenal')\n",
      "(1.6506426771239329, 'masterful')\n",
      "(1.677615581239628, 'masterfully')\n",
      "(1.8781421165591192, 'glorious')\n",
      "(1.9801882958590709, 'miraculous')\n",
      "(2.0143252330058212, 'perfection')\n",
      "\n",
      "Positive words\n",
      "(1.6394010901109861, 'embraced')\n",
      "(1.6458101037476704, 'clenching')\n",
      "(1.6782541137342109, 'pulpiness')\n",
      "(1.6967191349252824, 'companionable')\n",
      "(1.713004861933028, 'cheerfully')\n",
      "(1.87989344435394, 'efficient')\n",
      "(1.8853119829860951, 'knotting')\n",
      "(1.9785036060574466, 'irresistibly')\n",
      "(1.9907525876504681, 'ideally')\n",
      "(2.111387447241931, 'marveled')\n",
      "\n"
     ]
    }
   ],
   "source": [
    "# write code similar to the above sample code \n",
    "# and print out the 10 most indicative words for the \"very positive\" category and the \"positive\" category\n",
    "\n",
    "# Your code starts here\n",
    "\n",
    "feature_ranks_vpos = sorted(zip(svm_clf.coef_[4], unigram_count_vectorizer.get_feature_names_out()))\n",
    "feature_ranks_pos = sorted(zip(svm_clf.coef_[3], unigram_count_vectorizer.get_feature_names_out()))\n",
    "\n",
    "## get the 10 features that are best indicators of very positive sentiment (they are at the bottom of the ranked list)\n",
    "very_positive_10 = feature_ranks_vpos[-10:]\n",
    "print(\"Very positive words\")\n",
    "for i in range(0, len(very_positive_10)):\n",
    "    print(very_positive_10[i])\n",
    "print()\n",
    "\n",
    "## get the 10 features that are best indicators of very positive sentiment (they are at the bottom of the ranked list)\n",
    "positive_10 = feature_ranks_pos[-10:]\n",
    "print(\"Positive words\")\n",
    "for i in range(0, len(positive_10)):\n",
    "    print(positive_10[i])\n",
    "print()\n",
    "\n",
    "# Your code ends here"
   ]
  },
  {
   "cell_type": "markdown",
   "metadata": {},
   "source": [
    "Sample output\n",
    "\n",
    "(1.5635285973159958, 'stunning')\n",
    "(1.6005795078256047, 'astonish')\n",
    "(1.610812924790558, 'refreshes')\n",
    "(1.6148905161082145, 'flawless')\n",
    "(1.6474647033330083, 'phenomenal')\n",
    "(1.6506425169734038, 'masterful')\n",
    "(1.67761558779458, 'masterfully')\n",
    "(1.8781421016763864, 'glorious')\n",
    "(1.9801881772566481, 'miraculous')\n",
    "(2.0143251933052397, 'perfection')"
   ]
  },
  {
   "cell_type": "markdown",
   "metadata": {},
   "source": [
    "# Step 5: Test the LinearSVC classifier"
   ]
  },
  {
   "cell_type": "code",
   "execution_count": 10,
   "metadata": {},
   "outputs": [
    {
     "data": {
      "text/plain": [
       "0.6236864026656415"
      ]
     },
     "execution_count": 10,
     "metadata": {},
     "output_type": "execute_result"
    }
   ],
   "source": [
    "# test the classifier on the test data set, print accuracy score\n",
    "\n",
    "svm_clf.score(X_test_vec,y_test)\n",
    "\n"
   ]
  },
  {
   "cell_type": "code",
   "execution_count": 11,
   "metadata": {},
   "outputs": [
    {
     "name": "stdout",
     "output_type": "stream",
     "text": [
      "[[  918  1221   697    82    13]\n",
      " [  701  4080  5504   514    25]\n",
      " [  195  2106 27081  2310   172]\n",
      " [   34   396  6048  5533  1057]\n",
      " [    3    51   590  1772  1321]]\n",
      "\n",
      "              precision    recall  f1-score   support\n",
      "\n",
      "           0       0.50      0.31      0.38      2931\n",
      "           1       0.52      0.38      0.44     10824\n",
      "           2       0.68      0.85      0.75     31864\n",
      "           3       0.54      0.42      0.48     13068\n",
      "           4       0.51      0.35      0.42      3737\n",
      "\n",
      "    accuracy                           0.62     62424\n",
      "   macro avg       0.55      0.46      0.49     62424\n",
      "weighted avg       0.60      0.62      0.60     62424\n",
      "\n"
     ]
    }
   ],
   "source": [
    "# print confusion matrix and classification report\n",
    "\n",
    "from sklearn.metrics import confusion_matrix\n",
    "y_pred = svm_clf.predict(X_test_vec)\n",
    "cm=confusion_matrix(y_test, y_pred, labels=[0,1,2,3,4])\n",
    "print(cm)\n",
    "print()\n",
    "\n",
    "from sklearn.metrics import classification_report\n",
    "target_names = ['0','1','2','3','4']\n",
    "print(classification_report(y_test, y_pred, target_names=target_names))"
   ]
  },
  {
   "cell_type": "markdown",
   "metadata": {},
   "source": [
    "# Step 5.1 Interpret the prediction result"
   ]
  },
  {
   "cell_type": "code",
   "execution_count": 12,
   "metadata": {},
   "outputs": [
    {
     "name": "stdout",
     "output_type": "stream",
     "text": [
      "[-1.01718388 -0.50760034  0.22331219 -0.97514735 -1.24718847]\n",
      "2\n",
      "A series of escapades demonstrating the adage that what is good for the goose is also good for the gander , some of which occasionally amuses but none of which amounts to much of a story .\n"
     ]
    }
   ],
   "source": [
    "## get the confidence scores for all test examples from each of the five binary classifiers\n",
    "svm_confidence_scores = svm_clf.decision_function(X_test_vec)\n",
    "## get the confidence score for the first test example\n",
    "print(svm_confidence_scores[0])\n",
    "\n",
    "## sample output: array([-1.05306321, -0.62746206,  0.31074854, -0.89709483, -1.08343089]\n",
    "## because the confidence score is the highest for category 2, \n",
    "## the prediction should be 2. \n",
    "\n",
    "## Confirm by printing out the actual prediction\n",
    "print(y_test[0])\n",
    "print(X[0])"
   ]
  },
  {
   "cell_type": "code",
   "execution_count": 13,
   "metadata": {},
   "outputs": [
    {
     "name": "stderr",
     "output_type": "stream",
     "text": [
      "/Users/shivangi/opt/anaconda3/lib/python3.9/site-packages/sklearn/svm/_base.py:1206: ConvergenceWarning: Liblinear failed to converge, increase the number of iterations.\n",
      "  warnings.warn(\n",
      "/Users/shivangi/opt/anaconda3/lib/python3.9/site-packages/sklearn/svm/_base.py:1206: ConvergenceWarning: Liblinear failed to converge, increase the number of iterations.\n",
      "  warnings.warn(\n"
     ]
    },
    {
     "data": {
      "text/plain": [
       "array([0.03909122, 0.20406247, 0.60822951, 0.11914356, 0.02947324])"
      ]
     },
     "execution_count": 13,
     "metadata": {},
     "output_type": "execute_result"
    }
   ],
   "source": [
    "# output prediction probs\n",
    "# https://scikit-learn.org/stable/auto_examples/calibration/plot_calibration_curve.html#sphx-glr-auto-examples-calibration-plot-calibration-curve-py\n",
    "\n",
    "from sklearn.calibration import CalibratedClassifierCV\n",
    "svm_calibrated = CalibratedClassifierCV(svm_clf)\n",
    "svm_calibrated.fit(X_train_vec, y_train)\n",
    "y_test_proba = svm_calibrated.predict_proba(X_test_vec)\n",
    "y_test_proba[0]"
   ]
  },
  {
   "cell_type": "markdown",
   "metadata": {},
   "source": [
    "# Exercise B"
   ]
  },
  {
   "cell_type": "code",
   "execution_count": 14,
   "metadata": {},
   "outputs": [
    {
     "name": "stdout",
     "output_type": "stream",
     "text": [
      "[-1.18044093 -0.55340772  0.22562433 -0.62179447 -2.11601384]\n",
      "2\n",
      "suspect\n"
     ]
    },
    {
     "data": {
      "text/plain": [
       "array([0.02923082, 0.1907494 , 0.59051513, 0.18406636, 0.00543828])"
      ]
     },
     "execution_count": 14,
     "metadata": {},
     "output_type": "execute_result"
    }
   ],
   "source": [
    "# The above sample code examines LinearSVC's prediction confidence for the first example.\n",
    "# Now you are going to print out another example with index=99 (the 100th example), \n",
    "# and examine the LinearSVC's prediction confidence and its final prediction\n",
    "# does this prediction seem correct to you?\n",
    "\n",
    "# Your code starts here\n",
    "print(svm_confidence_scores[99])\n",
    "## Confirm by printing out the actual prediction\n",
    "print(y_test[99])\n",
    "print(X[99])\n",
    "# output prediction probs\n",
    "y_test_proba[99]\n",
    "# Your code ends here"
   ]
  },
  {
   "cell_type": "markdown",
   "metadata": {},
   "source": [
    "The prediction seems correct as the highest value of confidence score is for category 2 and the actual is 2."
   ]
  },
  {
   "cell_type": "markdown",
   "metadata": {},
   "source": [
    "# Step 5.2 Error Analysis"
   ]
  },
  {
   "cell_type": "code",
   "execution_count": 15,
   "metadata": {},
   "outputs": [
    {
     "name": "stdout",
     "output_type": "stream",
     "text": [
      "10 minutes into the film you 'll be white-knuckled and unable to look away .\n",
      "the film is never dull\n",
      "greatly impressed by the skill of the actors involved in the enterprise\n",
      "errors: 3\n"
     ]
    }
   ],
   "source": [
    "# print out specific type of error for further analysis\n",
    "\n",
    "# print out the very positive examples that are mistakenly predicted as negative\n",
    "# according to the confusion matrix, there should be 53 such examples\n",
    "# note if you use a different vectorizer option, your result might be different\n",
    "\n",
    "err_cnt = 0\n",
    "for i in range(0, len(y_test)):\n",
    "    if(y_test[i]==4 and y_pred[i]==0):\n",
    "        print(X_test[i])\n",
    "        err_cnt = err_cnt+1\n",
    "print(\"errors:\", err_cnt)"
   ]
  },
  {
   "cell_type": "markdown",
   "metadata": {},
   "source": [
    "# Exercise C"
   ]
  },
  {
   "cell_type": "code",
   "execution_count": 16,
   "metadata": {},
   "outputs": [
    {
     "name": "stdout",
     "output_type": "stream",
     "text": [
      "very negative examples were mistakenly predicted as very positive - \n",
      "the film is not entirely successful\n",
      "manages to bleed it almost completely dry of humor , verve and fun .\n",
      "the spell they cast is n't the least bit mesmerizing\n",
      "The Master of Disguise is funny -- not\n",
      "being cast in action films when none of them are ever any good\n",
      "But if the essence of magic is its make-believe promise of life that soars above the material realm , this is the opposite of a truly magical movie .\n",
      "is not Edward Burns ' best film\n",
      "bleed it almost completely dry of humor , verve and fun\n",
      "Once the expectation of laughter has been quashed by whatever obscenity is at hand , even the funniest idea is n't funny .\n",
      "manages to bleed it almost completely dry of humor , verve and fun\n",
      "It may not be a great piece of filmmaking ,\n",
      "Depicts the sorriest and most sordid of human behavior on the screen , then laughs at how clever it 's being .\n",
      "a great movie it is not\n",
      "errors: 13\n",
      "very positive examples were mistakenly predicted as very negative - \n",
      "10 minutes into the film you 'll be white-knuckled and unable to look away .\n",
      "the film is never dull\n",
      "greatly impressed by the skill of the actors involved in the enterprise\n",
      "errors: 3\n"
     ]
    }
   ],
   "source": [
    "# write code to print out \n",
    "# the errors that very negative examples were mistakenly predicted as very positive?\n",
    "# and the errors that very positive examples were mistakenly predicted as very negative?\n",
    "\n",
    "# Try find lingustic patterns for these two types of errors\n",
    "# Based on the above error analysis, what suggestions would you give to improve the current model?\n",
    "\n",
    "# Your code starts here\n",
    "print(\"very negative examples were mistakenly predicted as very positive - \")\n",
    "err_cntC = 0\n",
    "for i in range(0, len(y_test)):\n",
    "    if(y_test[i]==0 and y_pred[i]==4):\n",
    "        print(X_test[i])\n",
    "        err_cntC = err_cntC+1\n",
    "print(\"errors:\", err_cntC)\n",
    "\n",
    "print(\"very positive examples were mistakenly predicted as very negative - \")\n",
    "err_cntC1 = 0\n",
    "for i in range(0, len(y_test)):\n",
    "    if(y_test[i]==4 and y_pred[i]==0):\n",
    "        print(X_test[i])\n",
    "        err_cntC1 = err_cntC1+1\n",
    "print(\"errors:\", err_cntC1)\n",
    "# Your code ends here"
   ]
  },
  {
   "cell_type": "markdown",
   "metadata": {},
   "source": [
    "# Step 6. Cross Validation"
   ]
  },
  {
   "cell_type": "code",
   "execution_count": 17,
   "metadata": {},
   "outputs": [
    {
     "name": "stderr",
     "output_type": "stream",
     "text": [
      "/Users/shivangi/opt/anaconda3/lib/python3.9/site-packages/sklearn/svm/_base.py:1206: ConvergenceWarning: Liblinear failed to converge, increase the number of iterations.\n",
      "  warnings.warn(\n",
      "/Users/shivangi/opt/anaconda3/lib/python3.9/site-packages/sklearn/svm/_base.py:1206: ConvergenceWarning: Liblinear failed to converge, increase the number of iterations.\n",
      "  warnings.warn(\n",
      "/Users/shivangi/opt/anaconda3/lib/python3.9/site-packages/sklearn/svm/_base.py:1206: ConvergenceWarning: Liblinear failed to converge, increase the number of iterations.\n",
      "  warnings.warn(\n"
     ]
    }
   ],
   "source": [
    "# Cross validation\n",
    "# for more details see https://scikit-learn.org/stable/modules/cross_validation.html\n",
    "# evaluation metrics provided by sklearn - https://scikit-learn.org/stable/modules/model_evaluation.html#scoring-parameter\n",
    "\n",
    "# if you need to output only one metric, such as accuracy or f1_macro, use the \"cross_val_score\" function\n",
    "\n",
    "from sklearn.pipeline import Pipeline\n",
    "from sklearn.model_selection import cross_val_score\n",
    "\n",
    "svm_clf_pipe = Pipeline([('vect', CountVectorizer(encoding='latin-1', binary=False)),('svm', LinearSVC(C=1))])\n",
    "scores = cross_val_score(svm_clf_pipe, X, y, cv=3, scoring='f1_macro')"
   ]
  },
  {
   "cell_type": "code",
   "execution_count": 18,
   "metadata": {},
   "outputs": [
    {
     "name": "stderr",
     "output_type": "stream",
     "text": [
      "/Users/shivangi/opt/anaconda3/lib/python3.9/site-packages/sklearn/svm/_base.py:1206: ConvergenceWarning: Liblinear failed to converge, increase the number of iterations.\n",
      "  warnings.warn(\n",
      "/Users/shivangi/opt/anaconda3/lib/python3.9/site-packages/sklearn/svm/_base.py:1206: ConvergenceWarning: Liblinear failed to converge, increase the number of iterations.\n",
      "  warnings.warn(\n",
      "/Users/shivangi/opt/anaconda3/lib/python3.9/site-packages/sklearn/svm/_base.py:1206: ConvergenceWarning: Liblinear failed to converge, increase the number of iterations.\n",
      "  warnings.warn(\n"
     ]
    }
   ],
   "source": [
    "# if you need to output multiple metrics, such as accuracy and f1_macro, use the \"cross_validate\" function\n",
    "from sklearn.model_selection import cross_validate\n",
    "\n",
    "scoring = ['accuracy', 'f1_macro', 'f1_micro', 'precision_macro', 'recall_macro']\n",
    "svm_clf_pipe = Pipeline([('vect', CountVectorizer(encoding='latin-1', binary=False)),('svm', LinearSVC(C=1))])\n",
    "scores = cross_validate(svm_clf_pipe, X, y, cv=3, scoring=scoring, return_train_score=True)"
   ]
  },
  {
   "cell_type": "code",
   "execution_count": 19,
   "metadata": {},
   "outputs": [
    {
     "data": {
      "text/plain": [
       "['fit_time',\n",
       " 'score_time',\n",
       " 'test_accuracy',\n",
       " 'test_f1_macro',\n",
       " 'test_f1_micro',\n",
       " 'test_precision_macro',\n",
       " 'test_recall_macro',\n",
       " 'train_accuracy',\n",
       " 'train_f1_macro',\n",
       " 'train_f1_micro',\n",
       " 'train_precision_macro',\n",
       " 'train_recall_macro']"
      ]
     },
     "execution_count": 19,
     "metadata": {},
     "output_type": "execute_result"
    }
   ],
   "source": [
    "sorted(scores.keys())"
   ]
  },
  {
   "cell_type": "code",
   "execution_count": 20,
   "metadata": {},
   "outputs": [],
   "source": [
    "# retrieve scores from a metric\n",
    "def get_metric_scores (scores, metric, train_or_test, verbose=False):\n",
    "    metric_name = train_or_test + '_' + metric\n",
    "    print(metric_name) \n",
    "\n",
    "    metric_scores = scores[metric_name]\n",
    "    if (verbose == True):\n",
    "        print(metric_scores)\n",
    "    avg = sum(metric_scores) / len(metric_scores)\n",
    "    print('average')\n",
    "    avg_formatted = \"{:.3f}\".format(avg)\n",
    "    print(avg_formatted)"
   ]
  },
  {
   "cell_type": "code",
   "execution_count": 21,
   "metadata": {},
   "outputs": [
    {
     "name": "stdout",
     "output_type": "stream",
     "text": [
      "test_accuracy\n",
      "[0.57604767 0.56403306 0.56680123]\n",
      "average\n",
      "0.569\n"
     ]
    }
   ],
   "source": [
    "#retrieve test accuracy scores\n",
    "get_metric_scores(scores, 'accuracy', 'test', verbose=True)"
   ]
  },
  {
   "cell_type": "code",
   "execution_count": 22,
   "metadata": {},
   "outputs": [
    {
     "name": "stdout",
     "output_type": "stream",
     "text": [
      "train_accuracy\n",
      "average\n",
      "0.738\n"
     ]
    }
   ],
   "source": [
    "#retrieve training accuracy scores\n",
    "get_metric_scores(scores, 'accuracy', 'train')"
   ]
  },
  {
   "cell_type": "code",
   "execution_count": 23,
   "metadata": {},
   "outputs": [
    {
     "name": "stderr",
     "output_type": "stream",
     "text": [
      "/Users/shivangi/opt/anaconda3/lib/python3.9/site-packages/sklearn/svm/_base.py:1206: ConvergenceWarning: Liblinear failed to converge, increase the number of iterations.\n",
      "  warnings.warn(\n",
      "/Users/shivangi/opt/anaconda3/lib/python3.9/site-packages/sklearn/svm/_base.py:1206: ConvergenceWarning: Liblinear failed to converge, increase the number of iterations.\n",
      "  warnings.warn(\n",
      "/Users/shivangi/opt/anaconda3/lib/python3.9/site-packages/sklearn/svm/_base.py:1206: ConvergenceWarning: Liblinear failed to converge, increase the number of iterations.\n",
      "  warnings.warn(\n",
      "/Users/shivangi/opt/anaconda3/lib/python3.9/site-packages/sklearn/svm/_base.py:1206: ConvergenceWarning: Liblinear failed to converge, increase the number of iterations.\n",
      "  warnings.warn(\n",
      "/Users/shivangi/opt/anaconda3/lib/python3.9/site-packages/sklearn/svm/_base.py:1206: ConvergenceWarning: Liblinear failed to converge, increase the number of iterations.\n",
      "  warnings.warn(\n",
      "/Users/shivangi/opt/anaconda3/lib/python3.9/site-packages/sklearn/svm/_base.py:1206: ConvergenceWarning: Liblinear failed to converge, increase the number of iterations.\n",
      "  warnings.warn(\n"
     ]
    }
   ],
   "source": [
    "# compare performance with different choice of C values\n",
    "\n",
    "svm_clf_pipe2 = Pipeline([('vect', CountVectorizer(encoding='latin-1', binary=False)),('svm', LinearSVC(C=0.5))])\n",
    "scores2 = cross_validate(svm_clf_pipe2, X, y, cv=3, scoring=scoring, return_train_score=True)\n",
    "\n",
    "svm_clf_pipe3 = Pipeline([('vect', CountVectorizer(encoding='latin-1', binary=False)),('svm', LinearSVC(C=2))])\n",
    "scores3 = cross_validate(svm_clf_pipe3, X, y, cv=3, scoring=scoring, return_train_score=True)"
   ]
  },
  {
   "cell_type": "code",
   "execution_count": 24,
   "metadata": {},
   "outputs": [
    {
     "name": "stdout",
     "output_type": "stream",
     "text": [
      "C=1\n",
      "\n",
      "train_accuracy\n",
      "average\n",
      "0.738\n",
      "test_accuracy\n",
      "average\n",
      "0.569\n",
      "\n",
      "C=0.5\n",
      "\n",
      "train_accuracy\n",
      "average\n",
      "0.732\n",
      "test_accuracy\n",
      "average\n",
      "0.574\n",
      "\n",
      "C=2\n",
      "\n",
      "train_accuracy\n",
      "average\n",
      "0.741\n",
      "test_accuracy\n",
      "average\n",
      "0.565\n"
     ]
    }
   ],
   "source": [
    "# compare the effect of different C values\n",
    "# C=1\n",
    "print('C=1\\n')\n",
    "get_metric_scores(scores, 'accuracy', 'train')\n",
    "get_metric_scores(scores, 'accuracy', 'test')\n",
    "\n",
    "# C=0.5\n",
    "print('\\nC=0.5\\n')\n",
    "get_metric_scores(scores2, 'accuracy', 'train')\n",
    "get_metric_scores(scores2, 'accuracy', 'test')\n",
    "\n",
    "# C=2\n",
    "print('\\nC=2\\n')\n",
    "get_metric_scores(scores3, 'accuracy', 'train')\n",
    "get_metric_scores(scores3, 'accuracy', 'test')\n",
    "\n"
   ]
  },
  {
   "cell_type": "markdown",
   "metadata": {},
   "source": [
    "# Exercise D"
   ]
  },
  {
   "cell_type": "code",
   "execution_count": 25,
   "metadata": {},
   "outputs": [
    {
     "name": "stdout",
     "output_type": "stream",
     "text": [
      "C=1\n",
      "\n",
      "train_f1_macro\n",
      "average\n",
      "0.665\n",
      "test_f1_macro\n",
      "average\n",
      "0.409\n",
      "\n",
      "C=0.5\n",
      "\n",
      "train_f1_macro\n",
      "average\n",
      "0.655\n",
      "test_f1_macro\n",
      "average\n",
      "0.409\n",
      "\n",
      "C=2\n",
      "\n",
      "train_f1_macro\n",
      "average\n",
      "0.673\n",
      "test_f1_macro\n",
      "average\n",
      "0.408\n"
     ]
    }
   ],
   "source": [
    "# retrieve the f1_macro scores and compare the effect of C on f1_macro \n",
    "\n",
    "# Your code starts here\n",
    "# C=1\n",
    "print('C=1\\n')\n",
    "get_metric_scores(scores, 'f1_macro', 'train')\n",
    "get_metric_scores(scores, 'f1_macro', 'test')\n",
    "\n",
    "# C=0.5\n",
    "print('\\nC=0.5\\n')\n",
    "get_metric_scores(scores2, 'f1_macro', 'train')\n",
    "get_metric_scores(scores2, 'f1_macro', 'test')\n",
    "\n",
    "# C=2\n",
    "print('\\nC=2\\n')\n",
    "get_metric_scores(scores3, 'f1_macro', 'train')\n",
    "get_metric_scores(scores3, 'f1_macro', 'test')\n",
    "\n",
    "# Your code ends here"
   ]
  },
  {
   "cell_type": "code",
   "execution_count": null,
   "metadata": {},
   "outputs": [],
   "source": []
  }
 ],
 "metadata": {
  "kernelspec": {
   "display_name": "Python 3 (ipykernel)",
   "language": "python",
   "name": "python3"
  },
  "language_info": {
   "codemirror_mode": {
    "name": "ipython",
    "version": 3
   },
   "file_extension": ".py",
   "mimetype": "text/x-python",
   "name": "python",
   "nbconvert_exporter": "python",
   "pygments_lexer": "ipython3",
   "version": "3.9.12"
  }
 },
 "nbformat": 4,
 "nbformat_minor": 2
}
